{
 "cells": [
  {
   "cell_type": "code",
   "execution_count": 1,
   "id": "dbf7d4be",
   "metadata": {
    "execution": {
     "iopub.execute_input": "2023-07-21T08:35:41.017560Z",
     "iopub.status.busy": "2023-07-21T08:35:41.017103Z",
     "iopub.status.idle": "2023-07-21T08:35:44.102624Z",
     "shell.execute_reply": "2023-07-21T08:35:44.101193Z"
    },
    "id": "Efh8S5KIfOy5",
    "papermill": {
     "duration": 3.105636,
     "end_time": "2023-07-21T08:35:44.105122",
     "exception": false,
     "start_time": "2023-07-21T08:35:40.999486",
     "status": "completed"
    },
    "tags": []
   },
   "outputs": [
    {
     "name": "stderr",
     "output_type": "stream",
     "text": [
      "/opt/conda/lib/python3.10/site-packages/scipy/__init__.py:146: UserWarning: A NumPy version >=1.16.5 and <1.23.0 is required for this version of SciPy (detected version 1.23.5\n",
      "  warnings.warn(f\"A NumPy version >={np_minversion} and <{np_maxversion}\"\n"
     ]
    }
   ],
   "source": [
    "import numpy as np\n",
    "import pandas as pd\n",
    "import matplotlib.pyplot as plt\n",
    "import statsmodels.api as sm\n",
    "import seaborn as sns\n",
    "\n",
    "%matplotlib inline\n",
    "sns.set(rc={'figure.figsize': [20, 20]}, font_scale=1.4)"
   ]
  },
  {
   "cell_type": "code",
   "execution_count": 2,
   "id": "06462d08",
   "metadata": {
    "execution": {
     "iopub.execute_input": "2023-07-21T08:35:44.140443Z",
     "iopub.status.busy": "2023-07-21T08:35:44.139989Z",
     "iopub.status.idle": "2023-07-21T08:35:44.219610Z",
     "shell.execute_reply": "2023-07-21T08:35:44.218414Z"
    },
    "id": "5t3lfbuqftT2",
    "outputId": "fa32c4fd-8962-4d60-991d-35f8e0fb4e43",
    "papermill": {
     "duration": 0.100757,
     "end_time": "2023-07-21T08:35:44.222224",
     "exception": false,
     "start_time": "2023-07-21T08:35:44.121467",
     "status": "completed"
    },
    "tags": []
   },
   "outputs": [
    {
     "data": {
      "text/html": [
       "<div>\n",
       "<style scoped>\n",
       "    .dataframe tbody tr th:only-of-type {\n",
       "        vertical-align: middle;\n",
       "    }\n",
       "\n",
       "    .dataframe tbody tr th {\n",
       "        vertical-align: top;\n",
       "    }\n",
       "\n",
       "    .dataframe thead th {\n",
       "        text-align: right;\n",
       "    }\n",
       "</style>\n",
       "<table border=\"1\" class=\"dataframe\">\n",
       "  <thead>\n",
       "    <tr style=\"text-align: right;\">\n",
       "      <th></th>\n",
       "      <th>age</th>\n",
       "      <th>sex</th>\n",
       "      <th>on thyroxine</th>\n",
       "      <th>query on thyroxine</th>\n",
       "      <th>on antithyroid medication</th>\n",
       "      <th>sick</th>\n",
       "      <th>pregnant</th>\n",
       "      <th>thyroid surgery</th>\n",
       "      <th>I131 treatment</th>\n",
       "      <th>query hypothyroid</th>\n",
       "      <th>...</th>\n",
       "      <th>TT4 measured</th>\n",
       "      <th>TT4</th>\n",
       "      <th>T4U measured</th>\n",
       "      <th>T4U</th>\n",
       "      <th>FTI measured</th>\n",
       "      <th>FTI</th>\n",
       "      <th>TBG measured</th>\n",
       "      <th>TBG</th>\n",
       "      <th>referral source</th>\n",
       "      <th>binaryClass</th>\n",
       "    </tr>\n",
       "  </thead>\n",
       "  <tbody>\n",
       "    <tr>\n",
       "      <th>0</th>\n",
       "      <td>41</td>\n",
       "      <td>F</td>\n",
       "      <td>f</td>\n",
       "      <td>f</td>\n",
       "      <td>f</td>\n",
       "      <td>f</td>\n",
       "      <td>f</td>\n",
       "      <td>f</td>\n",
       "      <td>f</td>\n",
       "      <td>f</td>\n",
       "      <td>...</td>\n",
       "      <td>t</td>\n",
       "      <td>125</td>\n",
       "      <td>t</td>\n",
       "      <td>1.14</td>\n",
       "      <td>t</td>\n",
       "      <td>109</td>\n",
       "      <td>f</td>\n",
       "      <td>?</td>\n",
       "      <td>SVHC</td>\n",
       "      <td>P</td>\n",
       "    </tr>\n",
       "    <tr>\n",
       "      <th>1</th>\n",
       "      <td>23</td>\n",
       "      <td>F</td>\n",
       "      <td>f</td>\n",
       "      <td>f</td>\n",
       "      <td>f</td>\n",
       "      <td>f</td>\n",
       "      <td>f</td>\n",
       "      <td>f</td>\n",
       "      <td>f</td>\n",
       "      <td>f</td>\n",
       "      <td>...</td>\n",
       "      <td>t</td>\n",
       "      <td>102</td>\n",
       "      <td>f</td>\n",
       "      <td>?</td>\n",
       "      <td>f</td>\n",
       "      <td>?</td>\n",
       "      <td>f</td>\n",
       "      <td>?</td>\n",
       "      <td>other</td>\n",
       "      <td>P</td>\n",
       "    </tr>\n",
       "    <tr>\n",
       "      <th>2</th>\n",
       "      <td>46</td>\n",
       "      <td>M</td>\n",
       "      <td>f</td>\n",
       "      <td>f</td>\n",
       "      <td>f</td>\n",
       "      <td>f</td>\n",
       "      <td>f</td>\n",
       "      <td>f</td>\n",
       "      <td>f</td>\n",
       "      <td>f</td>\n",
       "      <td>...</td>\n",
       "      <td>t</td>\n",
       "      <td>109</td>\n",
       "      <td>t</td>\n",
       "      <td>0.91</td>\n",
       "      <td>t</td>\n",
       "      <td>120</td>\n",
       "      <td>f</td>\n",
       "      <td>?</td>\n",
       "      <td>other</td>\n",
       "      <td>P</td>\n",
       "    </tr>\n",
       "    <tr>\n",
       "      <th>3</th>\n",
       "      <td>70</td>\n",
       "      <td>F</td>\n",
       "      <td>t</td>\n",
       "      <td>f</td>\n",
       "      <td>f</td>\n",
       "      <td>f</td>\n",
       "      <td>f</td>\n",
       "      <td>f</td>\n",
       "      <td>f</td>\n",
       "      <td>f</td>\n",
       "      <td>...</td>\n",
       "      <td>t</td>\n",
       "      <td>175</td>\n",
       "      <td>f</td>\n",
       "      <td>?</td>\n",
       "      <td>f</td>\n",
       "      <td>?</td>\n",
       "      <td>f</td>\n",
       "      <td>?</td>\n",
       "      <td>other</td>\n",
       "      <td>P</td>\n",
       "    </tr>\n",
       "    <tr>\n",
       "      <th>4</th>\n",
       "      <td>70</td>\n",
       "      <td>F</td>\n",
       "      <td>f</td>\n",
       "      <td>f</td>\n",
       "      <td>f</td>\n",
       "      <td>f</td>\n",
       "      <td>f</td>\n",
       "      <td>f</td>\n",
       "      <td>f</td>\n",
       "      <td>f</td>\n",
       "      <td>...</td>\n",
       "      <td>t</td>\n",
       "      <td>61</td>\n",
       "      <td>t</td>\n",
       "      <td>0.87</td>\n",
       "      <td>t</td>\n",
       "      <td>70</td>\n",
       "      <td>f</td>\n",
       "      <td>?</td>\n",
       "      <td>SVI</td>\n",
       "      <td>P</td>\n",
       "    </tr>\n",
       "    <tr>\n",
       "      <th>...</th>\n",
       "      <td>...</td>\n",
       "      <td>...</td>\n",
       "      <td>...</td>\n",
       "      <td>...</td>\n",
       "      <td>...</td>\n",
       "      <td>...</td>\n",
       "      <td>...</td>\n",
       "      <td>...</td>\n",
       "      <td>...</td>\n",
       "      <td>...</td>\n",
       "      <td>...</td>\n",
       "      <td>...</td>\n",
       "      <td>...</td>\n",
       "      <td>...</td>\n",
       "      <td>...</td>\n",
       "      <td>...</td>\n",
       "      <td>...</td>\n",
       "      <td>...</td>\n",
       "      <td>...</td>\n",
       "      <td>...</td>\n",
       "      <td>...</td>\n",
       "    </tr>\n",
       "    <tr>\n",
       "      <th>3767</th>\n",
       "      <td>30</td>\n",
       "      <td>F</td>\n",
       "      <td>f</td>\n",
       "      <td>f</td>\n",
       "      <td>f</td>\n",
       "      <td>f</td>\n",
       "      <td>f</td>\n",
       "      <td>f</td>\n",
       "      <td>f</td>\n",
       "      <td>f</td>\n",
       "      <td>...</td>\n",
       "      <td>f</td>\n",
       "      <td>?</td>\n",
       "      <td>f</td>\n",
       "      <td>?</td>\n",
       "      <td>f</td>\n",
       "      <td>?</td>\n",
       "      <td>f</td>\n",
       "      <td>?</td>\n",
       "      <td>other</td>\n",
       "      <td>P</td>\n",
       "    </tr>\n",
       "    <tr>\n",
       "      <th>3768</th>\n",
       "      <td>68</td>\n",
       "      <td>F</td>\n",
       "      <td>f</td>\n",
       "      <td>f</td>\n",
       "      <td>f</td>\n",
       "      <td>f</td>\n",
       "      <td>f</td>\n",
       "      <td>f</td>\n",
       "      <td>f</td>\n",
       "      <td>f</td>\n",
       "      <td>...</td>\n",
       "      <td>t</td>\n",
       "      <td>124</td>\n",
       "      <td>t</td>\n",
       "      <td>1.08</td>\n",
       "      <td>t</td>\n",
       "      <td>114</td>\n",
       "      <td>f</td>\n",
       "      <td>?</td>\n",
       "      <td>SVI</td>\n",
       "      <td>P</td>\n",
       "    </tr>\n",
       "    <tr>\n",
       "      <th>3769</th>\n",
       "      <td>74</td>\n",
       "      <td>F</td>\n",
       "      <td>f</td>\n",
       "      <td>f</td>\n",
       "      <td>f</td>\n",
       "      <td>f</td>\n",
       "      <td>f</td>\n",
       "      <td>f</td>\n",
       "      <td>f</td>\n",
       "      <td>f</td>\n",
       "      <td>...</td>\n",
       "      <td>t</td>\n",
       "      <td>112</td>\n",
       "      <td>t</td>\n",
       "      <td>1.07</td>\n",
       "      <td>t</td>\n",
       "      <td>105</td>\n",
       "      <td>f</td>\n",
       "      <td>?</td>\n",
       "      <td>other</td>\n",
       "      <td>P</td>\n",
       "    </tr>\n",
       "    <tr>\n",
       "      <th>3770</th>\n",
       "      <td>72</td>\n",
       "      <td>M</td>\n",
       "      <td>f</td>\n",
       "      <td>f</td>\n",
       "      <td>f</td>\n",
       "      <td>f</td>\n",
       "      <td>f</td>\n",
       "      <td>f</td>\n",
       "      <td>f</td>\n",
       "      <td>f</td>\n",
       "      <td>...</td>\n",
       "      <td>t</td>\n",
       "      <td>82</td>\n",
       "      <td>t</td>\n",
       "      <td>0.94</td>\n",
       "      <td>t</td>\n",
       "      <td>87</td>\n",
       "      <td>f</td>\n",
       "      <td>?</td>\n",
       "      <td>SVI</td>\n",
       "      <td>P</td>\n",
       "    </tr>\n",
       "    <tr>\n",
       "      <th>3771</th>\n",
       "      <td>64</td>\n",
       "      <td>F</td>\n",
       "      <td>f</td>\n",
       "      <td>f</td>\n",
       "      <td>f</td>\n",
       "      <td>f</td>\n",
       "      <td>f</td>\n",
       "      <td>f</td>\n",
       "      <td>f</td>\n",
       "      <td>f</td>\n",
       "      <td>...</td>\n",
       "      <td>t</td>\n",
       "      <td>99</td>\n",
       "      <td>t</td>\n",
       "      <td>1.07</td>\n",
       "      <td>t</td>\n",
       "      <td>92</td>\n",
       "      <td>f</td>\n",
       "      <td>?</td>\n",
       "      <td>other</td>\n",
       "      <td>P</td>\n",
       "    </tr>\n",
       "  </tbody>\n",
       "</table>\n",
       "<p>3772 rows × 30 columns</p>\n",
       "</div>"
      ],
      "text/plain": [
       "     age sex on thyroxine query on thyroxine on antithyroid medication sick  \\\n",
       "0     41   F            f                  f                         f    f   \n",
       "1     23   F            f                  f                         f    f   \n",
       "2     46   M            f                  f                         f    f   \n",
       "3     70   F            t                  f                         f    f   \n",
       "4     70   F            f                  f                         f    f   \n",
       "...   ..  ..          ...                ...                       ...  ...   \n",
       "3767  30   F            f                  f                         f    f   \n",
       "3768  68   F            f                  f                         f    f   \n",
       "3769  74   F            f                  f                         f    f   \n",
       "3770  72   M            f                  f                         f    f   \n",
       "3771  64   F            f                  f                         f    f   \n",
       "\n",
       "     pregnant thyroid surgery I131 treatment query hypothyroid  ...  \\\n",
       "0           f               f              f                 f  ...   \n",
       "1           f               f              f                 f  ...   \n",
       "2           f               f              f                 f  ...   \n",
       "3           f               f              f                 f  ...   \n",
       "4           f               f              f                 f  ...   \n",
       "...       ...             ...            ...               ...  ...   \n",
       "3767        f               f              f                 f  ...   \n",
       "3768        f               f              f                 f  ...   \n",
       "3769        f               f              f                 f  ...   \n",
       "3770        f               f              f                 f  ...   \n",
       "3771        f               f              f                 f  ...   \n",
       "\n",
       "     TT4 measured  TT4 T4U measured   T4U FTI measured  FTI TBG measured TBG  \\\n",
       "0               t  125            t  1.14            t  109            f   ?   \n",
       "1               t  102            f     ?            f    ?            f   ?   \n",
       "2               t  109            t  0.91            t  120            f   ?   \n",
       "3               t  175            f     ?            f    ?            f   ?   \n",
       "4               t   61            t  0.87            t   70            f   ?   \n",
       "...           ...  ...          ...   ...          ...  ...          ...  ..   \n",
       "3767            f    ?            f     ?            f    ?            f   ?   \n",
       "3768            t  124            t  1.08            t  114            f   ?   \n",
       "3769            t  112            t  1.07            t  105            f   ?   \n",
       "3770            t   82            t  0.94            t   87            f   ?   \n",
       "3771            t   99            t  1.07            t   92            f   ?   \n",
       "\n",
       "     referral source binaryClass  \n",
       "0               SVHC           P  \n",
       "1              other           P  \n",
       "2              other           P  \n",
       "3              other           P  \n",
       "4                SVI           P  \n",
       "...              ...         ...  \n",
       "3767           other           P  \n",
       "3768             SVI           P  \n",
       "3769           other           P  \n",
       "3770             SVI           P  \n",
       "3771           other           P  \n",
       "\n",
       "[3772 rows x 30 columns]"
      ]
     },
     "execution_count": 2,
     "metadata": {},
     "output_type": "execute_result"
    }
   ],
   "source": [
    "df = pd.read_csv('/kaggle/input/hypothyroid/hypothyroid.csv')\n",
    "df"
   ]
  },
  {
   "cell_type": "code",
   "execution_count": 3,
   "id": "7bc30b84",
   "metadata": {
    "execution": {
     "iopub.execute_input": "2023-07-21T08:35:44.256933Z",
     "iopub.status.busy": "2023-07-21T08:35:44.256481Z",
     "iopub.status.idle": "2023-07-21T08:35:44.281538Z",
     "shell.execute_reply": "2023-07-21T08:35:44.280374Z"
    },
    "id": "Po-KEDxTf9-n",
    "outputId": "7713cec0-1b99-4723-b3a3-5859a8aa6f37",
    "papermill": {
     "duration": 0.045699,
     "end_time": "2023-07-21T08:35:44.284153",
     "exception": false,
     "start_time": "2023-07-21T08:35:44.238454",
     "status": "completed"
    },
    "tags": []
   },
   "outputs": [
    {
     "data": {
      "text/html": [
       "<div>\n",
       "<style scoped>\n",
       "    .dataframe tbody tr th:only-of-type {\n",
       "        vertical-align: middle;\n",
       "    }\n",
       "\n",
       "    .dataframe tbody tr th {\n",
       "        vertical-align: top;\n",
       "    }\n",
       "\n",
       "    .dataframe thead th {\n",
       "        text-align: right;\n",
       "    }\n",
       "</style>\n",
       "<table border=\"1\" class=\"dataframe\">\n",
       "  <thead>\n",
       "    <tr style=\"text-align: right;\">\n",
       "      <th></th>\n",
       "      <th>age</th>\n",
       "      <th>sex</th>\n",
       "      <th>on thyroxine</th>\n",
       "      <th>query on thyroxine</th>\n",
       "      <th>on antithyroid medication</th>\n",
       "      <th>sick</th>\n",
       "      <th>pregnant</th>\n",
       "      <th>thyroid surgery</th>\n",
       "      <th>I131 treatment</th>\n",
       "      <th>query hypothyroid</th>\n",
       "      <th>...</th>\n",
       "      <th>TT4 measured</th>\n",
       "      <th>TT4</th>\n",
       "      <th>T4U measured</th>\n",
       "      <th>T4U</th>\n",
       "      <th>FTI measured</th>\n",
       "      <th>FTI</th>\n",
       "      <th>TBG measured</th>\n",
       "      <th>TBG</th>\n",
       "      <th>referral source</th>\n",
       "      <th>binaryClass</th>\n",
       "    </tr>\n",
       "  </thead>\n",
       "  <tbody>\n",
       "    <tr>\n",
       "      <th>0</th>\n",
       "      <td>41</td>\n",
       "      <td>F</td>\n",
       "      <td>f</td>\n",
       "      <td>f</td>\n",
       "      <td>f</td>\n",
       "      <td>f</td>\n",
       "      <td>f</td>\n",
       "      <td>f</td>\n",
       "      <td>f</td>\n",
       "      <td>f</td>\n",
       "      <td>...</td>\n",
       "      <td>t</td>\n",
       "      <td>125</td>\n",
       "      <td>t</td>\n",
       "      <td>1.14</td>\n",
       "      <td>t</td>\n",
       "      <td>109</td>\n",
       "      <td>f</td>\n",
       "      <td>?</td>\n",
       "      <td>SVHC</td>\n",
       "      <td>P</td>\n",
       "    </tr>\n",
       "    <tr>\n",
       "      <th>1</th>\n",
       "      <td>23</td>\n",
       "      <td>F</td>\n",
       "      <td>f</td>\n",
       "      <td>f</td>\n",
       "      <td>f</td>\n",
       "      <td>f</td>\n",
       "      <td>f</td>\n",
       "      <td>f</td>\n",
       "      <td>f</td>\n",
       "      <td>f</td>\n",
       "      <td>...</td>\n",
       "      <td>t</td>\n",
       "      <td>102</td>\n",
       "      <td>f</td>\n",
       "      <td>?</td>\n",
       "      <td>f</td>\n",
       "      <td>?</td>\n",
       "      <td>f</td>\n",
       "      <td>?</td>\n",
       "      <td>other</td>\n",
       "      <td>P</td>\n",
       "    </tr>\n",
       "    <tr>\n",
       "      <th>2</th>\n",
       "      <td>46</td>\n",
       "      <td>M</td>\n",
       "      <td>f</td>\n",
       "      <td>f</td>\n",
       "      <td>f</td>\n",
       "      <td>f</td>\n",
       "      <td>f</td>\n",
       "      <td>f</td>\n",
       "      <td>f</td>\n",
       "      <td>f</td>\n",
       "      <td>...</td>\n",
       "      <td>t</td>\n",
       "      <td>109</td>\n",
       "      <td>t</td>\n",
       "      <td>0.91</td>\n",
       "      <td>t</td>\n",
       "      <td>120</td>\n",
       "      <td>f</td>\n",
       "      <td>?</td>\n",
       "      <td>other</td>\n",
       "      <td>P</td>\n",
       "    </tr>\n",
       "    <tr>\n",
       "      <th>3</th>\n",
       "      <td>70</td>\n",
       "      <td>F</td>\n",
       "      <td>t</td>\n",
       "      <td>f</td>\n",
       "      <td>f</td>\n",
       "      <td>f</td>\n",
       "      <td>f</td>\n",
       "      <td>f</td>\n",
       "      <td>f</td>\n",
       "      <td>f</td>\n",
       "      <td>...</td>\n",
       "      <td>t</td>\n",
       "      <td>175</td>\n",
       "      <td>f</td>\n",
       "      <td>?</td>\n",
       "      <td>f</td>\n",
       "      <td>?</td>\n",
       "      <td>f</td>\n",
       "      <td>?</td>\n",
       "      <td>other</td>\n",
       "      <td>P</td>\n",
       "    </tr>\n",
       "    <tr>\n",
       "      <th>4</th>\n",
       "      <td>70</td>\n",
       "      <td>F</td>\n",
       "      <td>f</td>\n",
       "      <td>f</td>\n",
       "      <td>f</td>\n",
       "      <td>f</td>\n",
       "      <td>f</td>\n",
       "      <td>f</td>\n",
       "      <td>f</td>\n",
       "      <td>f</td>\n",
       "      <td>...</td>\n",
       "      <td>t</td>\n",
       "      <td>61</td>\n",
       "      <td>t</td>\n",
       "      <td>0.87</td>\n",
       "      <td>t</td>\n",
       "      <td>70</td>\n",
       "      <td>f</td>\n",
       "      <td>?</td>\n",
       "      <td>SVI</td>\n",
       "      <td>P</td>\n",
       "    </tr>\n",
       "  </tbody>\n",
       "</table>\n",
       "<p>5 rows × 30 columns</p>\n",
       "</div>"
      ],
      "text/plain": [
       "  age sex on thyroxine query on thyroxine on antithyroid medication sick  \\\n",
       "0  41   F            f                  f                         f    f   \n",
       "1  23   F            f                  f                         f    f   \n",
       "2  46   M            f                  f                         f    f   \n",
       "3  70   F            t                  f                         f    f   \n",
       "4  70   F            f                  f                         f    f   \n",
       "\n",
       "  pregnant thyroid surgery I131 treatment query hypothyroid  ... TT4 measured  \\\n",
       "0        f               f              f                 f  ...            t   \n",
       "1        f               f              f                 f  ...            t   \n",
       "2        f               f              f                 f  ...            t   \n",
       "3        f               f              f                 f  ...            t   \n",
       "4        f               f              f                 f  ...            t   \n",
       "\n",
       "   TT4 T4U measured   T4U FTI measured  FTI TBG measured TBG referral source  \\\n",
       "0  125            t  1.14            t  109            f   ?            SVHC   \n",
       "1  102            f     ?            f    ?            f   ?           other   \n",
       "2  109            t  0.91            t  120            f   ?           other   \n",
       "3  175            f     ?            f    ?            f   ?           other   \n",
       "4   61            t  0.87            t   70            f   ?             SVI   \n",
       "\n",
       "  binaryClass  \n",
       "0           P  \n",
       "1           P  \n",
       "2           P  \n",
       "3           P  \n",
       "4           P  \n",
       "\n",
       "[5 rows x 30 columns]"
      ]
     },
     "execution_count": 3,
     "metadata": {},
     "output_type": "execute_result"
    }
   ],
   "source": [
    "df.head()"
   ]
  },
  {
   "cell_type": "code",
   "execution_count": 4,
   "id": "98b76a42",
   "metadata": {
    "execution": {
     "iopub.execute_input": "2023-07-21T08:35:44.320305Z",
     "iopub.status.busy": "2023-07-21T08:35:44.319203Z",
     "iopub.status.idle": "2023-07-21T08:35:44.411256Z",
     "shell.execute_reply": "2023-07-21T08:35:44.410041Z"
    },
    "id": "RaAOUOxngM7p",
    "outputId": "72e78ddd-45eb-49ec-ecf0-5c1b67a61467",
    "papermill": {
     "duration": 0.112838,
     "end_time": "2023-07-21T08:35:44.413664",
     "exception": false,
     "start_time": "2023-07-21T08:35:44.300826",
     "status": "completed"
    },
    "tags": []
   },
   "outputs": [
    {
     "data": {
      "text/html": [
       "<div>\n",
       "<style scoped>\n",
       "    .dataframe tbody tr th:only-of-type {\n",
       "        vertical-align: middle;\n",
       "    }\n",
       "\n",
       "    .dataframe tbody tr th {\n",
       "        vertical-align: top;\n",
       "    }\n",
       "\n",
       "    .dataframe thead th {\n",
       "        text-align: right;\n",
       "    }\n",
       "</style>\n",
       "<table border=\"1\" class=\"dataframe\">\n",
       "  <thead>\n",
       "    <tr style=\"text-align: right;\">\n",
       "      <th></th>\n",
       "      <th>count</th>\n",
       "      <th>unique</th>\n",
       "      <th>top</th>\n",
       "      <th>freq</th>\n",
       "    </tr>\n",
       "  </thead>\n",
       "  <tbody>\n",
       "    <tr>\n",
       "      <th>age</th>\n",
       "      <td>3772</td>\n",
       "      <td>94</td>\n",
       "      <td>59</td>\n",
       "      <td>95</td>\n",
       "    </tr>\n",
       "    <tr>\n",
       "      <th>sex</th>\n",
       "      <td>3772</td>\n",
       "      <td>3</td>\n",
       "      <td>F</td>\n",
       "      <td>2480</td>\n",
       "    </tr>\n",
       "    <tr>\n",
       "      <th>on thyroxine</th>\n",
       "      <td>3772</td>\n",
       "      <td>2</td>\n",
       "      <td>f</td>\n",
       "      <td>3308</td>\n",
       "    </tr>\n",
       "    <tr>\n",
       "      <th>query on thyroxine</th>\n",
       "      <td>3772</td>\n",
       "      <td>2</td>\n",
       "      <td>f</td>\n",
       "      <td>3722</td>\n",
       "    </tr>\n",
       "    <tr>\n",
       "      <th>on antithyroid medication</th>\n",
       "      <td>3772</td>\n",
       "      <td>2</td>\n",
       "      <td>f</td>\n",
       "      <td>3729</td>\n",
       "    </tr>\n",
       "    <tr>\n",
       "      <th>sick</th>\n",
       "      <td>3772</td>\n",
       "      <td>2</td>\n",
       "      <td>f</td>\n",
       "      <td>3625</td>\n",
       "    </tr>\n",
       "    <tr>\n",
       "      <th>pregnant</th>\n",
       "      <td>3772</td>\n",
       "      <td>2</td>\n",
       "      <td>f</td>\n",
       "      <td>3719</td>\n",
       "    </tr>\n",
       "    <tr>\n",
       "      <th>thyroid surgery</th>\n",
       "      <td>3772</td>\n",
       "      <td>2</td>\n",
       "      <td>f</td>\n",
       "      <td>3719</td>\n",
       "    </tr>\n",
       "    <tr>\n",
       "      <th>I131 treatment</th>\n",
       "      <td>3772</td>\n",
       "      <td>2</td>\n",
       "      <td>f</td>\n",
       "      <td>3713</td>\n",
       "    </tr>\n",
       "    <tr>\n",
       "      <th>query hypothyroid</th>\n",
       "      <td>3772</td>\n",
       "      <td>2</td>\n",
       "      <td>f</td>\n",
       "      <td>3538</td>\n",
       "    </tr>\n",
       "    <tr>\n",
       "      <th>query hyperthyroid</th>\n",
       "      <td>3772</td>\n",
       "      <td>2</td>\n",
       "      <td>f</td>\n",
       "      <td>3535</td>\n",
       "    </tr>\n",
       "    <tr>\n",
       "      <th>lithium</th>\n",
       "      <td>3772</td>\n",
       "      <td>2</td>\n",
       "      <td>f</td>\n",
       "      <td>3754</td>\n",
       "    </tr>\n",
       "    <tr>\n",
       "      <th>goitre</th>\n",
       "      <td>3772</td>\n",
       "      <td>2</td>\n",
       "      <td>f</td>\n",
       "      <td>3738</td>\n",
       "    </tr>\n",
       "    <tr>\n",
       "      <th>tumor</th>\n",
       "      <td>3772</td>\n",
       "      <td>2</td>\n",
       "      <td>f</td>\n",
       "      <td>3676</td>\n",
       "    </tr>\n",
       "    <tr>\n",
       "      <th>hypopituitary</th>\n",
       "      <td>3772</td>\n",
       "      <td>2</td>\n",
       "      <td>f</td>\n",
       "      <td>3771</td>\n",
       "    </tr>\n",
       "    <tr>\n",
       "      <th>psych</th>\n",
       "      <td>3772</td>\n",
       "      <td>2</td>\n",
       "      <td>f</td>\n",
       "      <td>3588</td>\n",
       "    </tr>\n",
       "    <tr>\n",
       "      <th>TSH measured</th>\n",
       "      <td>3772</td>\n",
       "      <td>2</td>\n",
       "      <td>t</td>\n",
       "      <td>3403</td>\n",
       "    </tr>\n",
       "    <tr>\n",
       "      <th>TSH</th>\n",
       "      <td>3772</td>\n",
       "      <td>288</td>\n",
       "      <td>?</td>\n",
       "      <td>369</td>\n",
       "    </tr>\n",
       "    <tr>\n",
       "      <th>T3 measured</th>\n",
       "      <td>3772</td>\n",
       "      <td>2</td>\n",
       "      <td>t</td>\n",
       "      <td>3003</td>\n",
       "    </tr>\n",
       "    <tr>\n",
       "      <th>T3</th>\n",
       "      <td>3772</td>\n",
       "      <td>70</td>\n",
       "      <td>?</td>\n",
       "      <td>769</td>\n",
       "    </tr>\n",
       "    <tr>\n",
       "      <th>TT4 measured</th>\n",
       "      <td>3772</td>\n",
       "      <td>2</td>\n",
       "      <td>t</td>\n",
       "      <td>3541</td>\n",
       "    </tr>\n",
       "    <tr>\n",
       "      <th>TT4</th>\n",
       "      <td>3772</td>\n",
       "      <td>242</td>\n",
       "      <td>?</td>\n",
       "      <td>231</td>\n",
       "    </tr>\n",
       "    <tr>\n",
       "      <th>T4U measured</th>\n",
       "      <td>3772</td>\n",
       "      <td>2</td>\n",
       "      <td>t</td>\n",
       "      <td>3385</td>\n",
       "    </tr>\n",
       "    <tr>\n",
       "      <th>T4U</th>\n",
       "      <td>3772</td>\n",
       "      <td>147</td>\n",
       "      <td>?</td>\n",
       "      <td>387</td>\n",
       "    </tr>\n",
       "    <tr>\n",
       "      <th>FTI measured</th>\n",
       "      <td>3772</td>\n",
       "      <td>2</td>\n",
       "      <td>t</td>\n",
       "      <td>3387</td>\n",
       "    </tr>\n",
       "    <tr>\n",
       "      <th>FTI</th>\n",
       "      <td>3772</td>\n",
       "      <td>235</td>\n",
       "      <td>?</td>\n",
       "      <td>385</td>\n",
       "    </tr>\n",
       "    <tr>\n",
       "      <th>TBG measured</th>\n",
       "      <td>3772</td>\n",
       "      <td>1</td>\n",
       "      <td>f</td>\n",
       "      <td>3772</td>\n",
       "    </tr>\n",
       "    <tr>\n",
       "      <th>TBG</th>\n",
       "      <td>3772</td>\n",
       "      <td>1</td>\n",
       "      <td>?</td>\n",
       "      <td>3772</td>\n",
       "    </tr>\n",
       "    <tr>\n",
       "      <th>referral source</th>\n",
       "      <td>3772</td>\n",
       "      <td>5</td>\n",
       "      <td>other</td>\n",
       "      <td>2201</td>\n",
       "    </tr>\n",
       "    <tr>\n",
       "      <th>binaryClass</th>\n",
       "      <td>3772</td>\n",
       "      <td>2</td>\n",
       "      <td>P</td>\n",
       "      <td>3481</td>\n",
       "    </tr>\n",
       "  </tbody>\n",
       "</table>\n",
       "</div>"
      ],
      "text/plain": [
       "                          count unique    top  freq\n",
       "age                        3772     94     59    95\n",
       "sex                        3772      3      F  2480\n",
       "on thyroxine               3772      2      f  3308\n",
       "query on thyroxine         3772      2      f  3722\n",
       "on antithyroid medication  3772      2      f  3729\n",
       "sick                       3772      2      f  3625\n",
       "pregnant                   3772      2      f  3719\n",
       "thyroid surgery            3772      2      f  3719\n",
       "I131 treatment             3772      2      f  3713\n",
       "query hypothyroid          3772      2      f  3538\n",
       "query hyperthyroid         3772      2      f  3535\n",
       "lithium                    3772      2      f  3754\n",
       "goitre                     3772      2      f  3738\n",
       "tumor                      3772      2      f  3676\n",
       "hypopituitary              3772      2      f  3771\n",
       "psych                      3772      2      f  3588\n",
       "TSH measured               3772      2      t  3403\n",
       "TSH                        3772    288      ?   369\n",
       "T3 measured                3772      2      t  3003\n",
       "T3                         3772     70      ?   769\n",
       "TT4 measured               3772      2      t  3541\n",
       "TT4                        3772    242      ?   231\n",
       "T4U measured               3772      2      t  3385\n",
       "T4U                        3772    147      ?   387\n",
       "FTI measured               3772      2      t  3387\n",
       "FTI                        3772    235      ?   385\n",
       "TBG measured               3772      1      f  3772\n",
       "TBG                        3772      1      ?  3772\n",
       "referral source            3772      5  other  2201\n",
       "binaryClass                3772      2      P  3481"
      ]
     },
     "execution_count": 4,
     "metadata": {},
     "output_type": "execute_result"
    }
   ],
   "source": [
    "df.describe().T"
   ]
  },
  {
   "cell_type": "markdown",
   "id": "bf4165d8",
   "metadata": {
    "id": "QlI48muzg12m",
    "papermill": {
     "duration": 0.017743,
     "end_time": "2023-07-21T08:35:44.448531",
     "exception": false,
     "start_time": "2023-07-21T08:35:44.430788",
     "status": "completed"
    },
    "tags": []
   },
   "source": [
    "## Data Cleaning"
   ]
  },
  {
   "cell_type": "code",
   "execution_count": 5,
   "id": "3ac836b7",
   "metadata": {
    "execution": {
     "iopub.execute_input": "2023-07-21T08:35:44.484413Z",
     "iopub.status.busy": "2023-07-21T08:35:44.483988Z",
     "iopub.status.idle": "2023-07-21T08:35:44.540134Z",
     "shell.execute_reply": "2023-07-21T08:35:44.538942Z"
    },
    "id": "yFClWdupg6a7",
    "outputId": "51d515c2-83ee-4ba6-8f6e-191e931c8960",
    "papermill": {
     "duration": 0.077716,
     "end_time": "2023-07-21T08:35:44.543292",
     "exception": false,
     "start_time": "2023-07-21T08:35:44.465576",
     "status": "completed"
    },
    "tags": []
   },
   "outputs": [
    {
     "name": "stdout",
     "output_type": "stream",
     "text": [
      "<class 'pandas.core.frame.DataFrame'>\n",
      "RangeIndex: 3772 entries, 0 to 3771\n",
      "Data columns (total 30 columns):\n",
      " #   Column                     Non-Null Count  Dtype \n",
      "---  ------                     --------------  ----- \n",
      " 0   age                        3772 non-null   object\n",
      " 1   sex                        3772 non-null   object\n",
      " 2   on thyroxine               3772 non-null   object\n",
      " 3   query on thyroxine         3772 non-null   object\n",
      " 4   on antithyroid medication  3772 non-null   object\n",
      " 5   sick                       3772 non-null   object\n",
      " 6   pregnant                   3772 non-null   object\n",
      " 7   thyroid surgery            3772 non-null   object\n",
      " 8   I131 treatment             3772 non-null   object\n",
      " 9   query hypothyroid          3772 non-null   object\n",
      " 10  query hyperthyroid         3772 non-null   object\n",
      " 11  lithium                    3772 non-null   object\n",
      " 12  goitre                     3772 non-null   object\n",
      " 13  tumor                      3772 non-null   object\n",
      " 14  hypopituitary              3772 non-null   object\n",
      " 15  psych                      3772 non-null   object\n",
      " 16  TSH measured               3772 non-null   object\n",
      " 17  TSH                        3772 non-null   object\n",
      " 18  T3 measured                3772 non-null   object\n",
      " 19  T3                         3772 non-null   object\n",
      " 20  TT4 measured               3772 non-null   object\n",
      " 21  TT4                        3772 non-null   object\n",
      " 22  T4U measured               3772 non-null   object\n",
      " 23  T4U                        3772 non-null   object\n",
      " 24  FTI measured               3772 non-null   object\n",
      " 25  FTI                        3772 non-null   object\n",
      " 26  TBG measured               3772 non-null   object\n",
      " 27  TBG                        3772 non-null   object\n",
      " 28  referral source            3772 non-null   object\n",
      " 29  binaryClass                3772 non-null   object\n",
      "dtypes: object(30)\n",
      "memory usage: 884.2+ KB\n"
     ]
    }
   ],
   "source": [
    "df.info()"
   ]
  },
  {
   "cell_type": "code",
   "execution_count": 6,
   "id": "46cf43f6",
   "metadata": {
    "execution": {
     "iopub.execute_input": "2023-07-21T08:35:44.579999Z",
     "iopub.status.busy": "2023-07-21T08:35:44.579293Z",
     "iopub.status.idle": "2023-07-21T08:35:44.588639Z",
     "shell.execute_reply": "2023-07-21T08:35:44.587446Z"
    },
    "id": "BKi1gyQ9hIHm",
    "outputId": "5c38e06c-ad50-4fad-a516-e3bb326ee527",
    "papermill": {
     "duration": 0.030272,
     "end_time": "2023-07-21T08:35:44.590890",
     "exception": false,
     "start_time": "2023-07-21T08:35:44.560618",
     "status": "completed"
    },
    "tags": []
   },
   "outputs": [
    {
     "data": {
      "text/plain": [
       "P    3481\n",
       "N     291\n",
       "Name: binaryClass, dtype: int64"
      ]
     },
     "execution_count": 6,
     "metadata": {},
     "output_type": "execute_result"
    }
   ],
   "source": [
    "df[\"binaryClass\"].value_counts()"
   ]
  },
  {
   "cell_type": "code",
   "execution_count": 7,
   "id": "379e4cef",
   "metadata": {
    "execution": {
     "iopub.execute_input": "2023-07-21T08:35:44.627983Z",
     "iopub.status.busy": "2023-07-21T08:35:44.627276Z",
     "iopub.status.idle": "2023-07-21T08:35:44.634886Z",
     "shell.execute_reply": "2023-07-21T08:35:44.634068Z"
    },
    "id": "fqqPDLEIjuTC",
    "papermill": {
     "duration": 0.029125,
     "end_time": "2023-07-21T08:35:44.637171",
     "exception": false,
     "start_time": "2023-07-21T08:35:44.608046",
     "status": "completed"
    },
    "tags": []
   },
   "outputs": [],
   "source": [
    "df[\"binaryClass\"]=df[\"binaryClass\"].map({\"P\":0,\"N\":1})"
   ]
  },
  {
   "cell_type": "code",
   "execution_count": 8,
   "id": "bb542263",
   "metadata": {
    "execution": {
     "iopub.execute_input": "2023-07-21T08:35:44.674018Z",
     "iopub.status.busy": "2023-07-21T08:35:44.673307Z",
     "iopub.status.idle": "2023-07-21T08:35:44.682595Z",
     "shell.execute_reply": "2023-07-21T08:35:44.681339Z"
    },
    "id": "HrgAKPk2j77r",
    "outputId": "3b62fff5-4907-4351-f0a4-c5f2fe0df0d2",
    "papermill": {
     "duration": 0.034294,
     "end_time": "2023-07-21T08:35:44.688862",
     "exception": false,
     "start_time": "2023-07-21T08:35:44.654568",
     "status": "completed"
    },
    "tags": []
   },
   "outputs": [
    {
     "data": {
      "text/plain": [
       "f    3719\n",
       "t      53\n",
       "Name: pregnant, dtype: int64"
      ]
     },
     "execution_count": 8,
     "metadata": {},
     "output_type": "execute_result"
    }
   ],
   "source": [
    "df[\"pregnant\"].value_counts()"
   ]
  },
  {
   "cell_type": "code",
   "execution_count": 9,
   "id": "9c69bedd",
   "metadata": {
    "execution": {
     "iopub.execute_input": "2023-07-21T08:35:44.726486Z",
     "iopub.status.busy": "2023-07-21T08:35:44.726047Z",
     "iopub.status.idle": "2023-07-21T08:35:44.821680Z",
     "shell.execute_reply": "2023-07-21T08:35:44.820584Z"
    },
    "id": "9y-nZDoAj-62",
    "papermill": {
     "duration": 0.117818,
     "end_time": "2023-07-21T08:35:44.824658",
     "exception": false,
     "start_time": "2023-07-21T08:35:44.706840",
     "status": "completed"
    },
    "tags": []
   },
   "outputs": [],
   "source": [
    "df=df.replace({\"t\":1,\"f\":0})"
   ]
  },
  {
   "cell_type": "code",
   "execution_count": 10,
   "id": "a7b098b0",
   "metadata": {
    "execution": {
     "iopub.execute_input": "2023-07-21T08:35:44.862155Z",
     "iopub.status.busy": "2023-07-21T08:35:44.861764Z",
     "iopub.status.idle": "2023-07-21T08:35:44.871776Z",
     "shell.execute_reply": "2023-07-21T08:35:44.870582Z"
    },
    "id": "olW1AUi5lEFN",
    "outputId": "a035a9e5-00b7-436b-8851-e0de749e7318",
    "papermill": {
     "duration": 0.031738,
     "end_time": "2023-07-21T08:35:44.874228",
     "exception": false,
     "start_time": "2023-07-21T08:35:44.842490",
     "status": "completed"
    },
    "tags": []
   },
   "outputs": [
    {
     "data": {
      "text/plain": [
       "F    2480\n",
       "M    1142\n",
       "?     150\n",
       "Name: sex, dtype: int64"
      ]
     },
     "execution_count": 10,
     "metadata": {},
     "output_type": "execute_result"
    }
   ],
   "source": [
    "df[\"sex\"].value_counts()"
   ]
  },
  {
   "cell_type": "code",
   "execution_count": 11,
   "id": "86424b75",
   "metadata": {
    "execution": {
     "iopub.execute_input": "2023-07-21T08:35:44.911699Z",
     "iopub.status.busy": "2023-07-21T08:35:44.910933Z",
     "iopub.status.idle": "2023-07-21T08:35:44.935349Z",
     "shell.execute_reply": "2023-07-21T08:35:44.934252Z"
    },
    "id": "5fSmvaG7lGPG",
    "papermill": {
     "duration": 0.046058,
     "end_time": "2023-07-21T08:35:44.938098",
     "exception": false,
     "start_time": "2023-07-21T08:35:44.892040",
     "status": "completed"
    },
    "tags": []
   },
   "outputs": [],
   "source": [
    "df=df.replace({\"F\":1,\"M\":0})"
   ]
  },
  {
   "cell_type": "code",
   "execution_count": 12,
   "id": "56025886",
   "metadata": {
    "execution": {
     "iopub.execute_input": "2023-07-21T08:35:44.975082Z",
     "iopub.status.busy": "2023-07-21T08:35:44.974684Z",
     "iopub.status.idle": "2023-07-21T08:35:45.007637Z",
     "shell.execute_reply": "2023-07-21T08:35:45.006392Z"
    },
    "id": "K3rX0adQkDGw",
    "outputId": "f20d9a11-4634-432d-a6a4-4e85eee4a8d2",
    "papermill": {
     "duration": 0.054106,
     "end_time": "2023-07-21T08:35:45.009960",
     "exception": false,
     "start_time": "2023-07-21T08:35:44.955854",
     "status": "completed"
    },
    "tags": []
   },
   "outputs": [
    {
     "data": {
      "text/html": [
       "<div>\n",
       "<style scoped>\n",
       "    .dataframe tbody tr th:only-of-type {\n",
       "        vertical-align: middle;\n",
       "    }\n",
       "\n",
       "    .dataframe tbody tr th {\n",
       "        vertical-align: top;\n",
       "    }\n",
       "\n",
       "    .dataframe thead th {\n",
       "        text-align: right;\n",
       "    }\n",
       "</style>\n",
       "<table border=\"1\" class=\"dataframe\">\n",
       "  <thead>\n",
       "    <tr style=\"text-align: right;\">\n",
       "      <th></th>\n",
       "      <th>age</th>\n",
       "      <th>sex</th>\n",
       "      <th>on thyroxine</th>\n",
       "      <th>query on thyroxine</th>\n",
       "      <th>on antithyroid medication</th>\n",
       "      <th>sick</th>\n",
       "      <th>pregnant</th>\n",
       "      <th>thyroid surgery</th>\n",
       "      <th>I131 treatment</th>\n",
       "      <th>query hypothyroid</th>\n",
       "      <th>...</th>\n",
       "      <th>TT4 measured</th>\n",
       "      <th>TT4</th>\n",
       "      <th>T4U measured</th>\n",
       "      <th>T4U</th>\n",
       "      <th>FTI measured</th>\n",
       "      <th>FTI</th>\n",
       "      <th>TBG measured</th>\n",
       "      <th>TBG</th>\n",
       "      <th>referral source</th>\n",
       "      <th>binaryClass</th>\n",
       "    </tr>\n",
       "  </thead>\n",
       "  <tbody>\n",
       "    <tr>\n",
       "      <th>0</th>\n",
       "      <td>41</td>\n",
       "      <td>1</td>\n",
       "      <td>0</td>\n",
       "      <td>0</td>\n",
       "      <td>0</td>\n",
       "      <td>0</td>\n",
       "      <td>0</td>\n",
       "      <td>0</td>\n",
       "      <td>0</td>\n",
       "      <td>0</td>\n",
       "      <td>...</td>\n",
       "      <td>1</td>\n",
       "      <td>125</td>\n",
       "      <td>1</td>\n",
       "      <td>1.14</td>\n",
       "      <td>1</td>\n",
       "      <td>109</td>\n",
       "      <td>0</td>\n",
       "      <td>?</td>\n",
       "      <td>SVHC</td>\n",
       "      <td>0</td>\n",
       "    </tr>\n",
       "    <tr>\n",
       "      <th>1</th>\n",
       "      <td>23</td>\n",
       "      <td>1</td>\n",
       "      <td>0</td>\n",
       "      <td>0</td>\n",
       "      <td>0</td>\n",
       "      <td>0</td>\n",
       "      <td>0</td>\n",
       "      <td>0</td>\n",
       "      <td>0</td>\n",
       "      <td>0</td>\n",
       "      <td>...</td>\n",
       "      <td>1</td>\n",
       "      <td>102</td>\n",
       "      <td>0</td>\n",
       "      <td>?</td>\n",
       "      <td>0</td>\n",
       "      <td>?</td>\n",
       "      <td>0</td>\n",
       "      <td>?</td>\n",
       "      <td>other</td>\n",
       "      <td>0</td>\n",
       "    </tr>\n",
       "    <tr>\n",
       "      <th>2</th>\n",
       "      <td>46</td>\n",
       "      <td>0</td>\n",
       "      <td>0</td>\n",
       "      <td>0</td>\n",
       "      <td>0</td>\n",
       "      <td>0</td>\n",
       "      <td>0</td>\n",
       "      <td>0</td>\n",
       "      <td>0</td>\n",
       "      <td>0</td>\n",
       "      <td>...</td>\n",
       "      <td>1</td>\n",
       "      <td>109</td>\n",
       "      <td>1</td>\n",
       "      <td>0.91</td>\n",
       "      <td>1</td>\n",
       "      <td>120</td>\n",
       "      <td>0</td>\n",
       "      <td>?</td>\n",
       "      <td>other</td>\n",
       "      <td>0</td>\n",
       "    </tr>\n",
       "    <tr>\n",
       "      <th>3</th>\n",
       "      <td>70</td>\n",
       "      <td>1</td>\n",
       "      <td>1</td>\n",
       "      <td>0</td>\n",
       "      <td>0</td>\n",
       "      <td>0</td>\n",
       "      <td>0</td>\n",
       "      <td>0</td>\n",
       "      <td>0</td>\n",
       "      <td>0</td>\n",
       "      <td>...</td>\n",
       "      <td>1</td>\n",
       "      <td>175</td>\n",
       "      <td>0</td>\n",
       "      <td>?</td>\n",
       "      <td>0</td>\n",
       "      <td>?</td>\n",
       "      <td>0</td>\n",
       "      <td>?</td>\n",
       "      <td>other</td>\n",
       "      <td>0</td>\n",
       "    </tr>\n",
       "    <tr>\n",
       "      <th>4</th>\n",
       "      <td>70</td>\n",
       "      <td>1</td>\n",
       "      <td>0</td>\n",
       "      <td>0</td>\n",
       "      <td>0</td>\n",
       "      <td>0</td>\n",
       "      <td>0</td>\n",
       "      <td>0</td>\n",
       "      <td>0</td>\n",
       "      <td>0</td>\n",
       "      <td>...</td>\n",
       "      <td>1</td>\n",
       "      <td>61</td>\n",
       "      <td>1</td>\n",
       "      <td>0.87</td>\n",
       "      <td>1</td>\n",
       "      <td>70</td>\n",
       "      <td>0</td>\n",
       "      <td>?</td>\n",
       "      <td>SVI</td>\n",
       "      <td>0</td>\n",
       "    </tr>\n",
       "    <tr>\n",
       "      <th>...</th>\n",
       "      <td>...</td>\n",
       "      <td>...</td>\n",
       "      <td>...</td>\n",
       "      <td>...</td>\n",
       "      <td>...</td>\n",
       "      <td>...</td>\n",
       "      <td>...</td>\n",
       "      <td>...</td>\n",
       "      <td>...</td>\n",
       "      <td>...</td>\n",
       "      <td>...</td>\n",
       "      <td>...</td>\n",
       "      <td>...</td>\n",
       "      <td>...</td>\n",
       "      <td>...</td>\n",
       "      <td>...</td>\n",
       "      <td>...</td>\n",
       "      <td>...</td>\n",
       "      <td>...</td>\n",
       "      <td>...</td>\n",
       "      <td>...</td>\n",
       "    </tr>\n",
       "    <tr>\n",
       "      <th>3767</th>\n",
       "      <td>30</td>\n",
       "      <td>1</td>\n",
       "      <td>0</td>\n",
       "      <td>0</td>\n",
       "      <td>0</td>\n",
       "      <td>0</td>\n",
       "      <td>0</td>\n",
       "      <td>0</td>\n",
       "      <td>0</td>\n",
       "      <td>0</td>\n",
       "      <td>...</td>\n",
       "      <td>0</td>\n",
       "      <td>?</td>\n",
       "      <td>0</td>\n",
       "      <td>?</td>\n",
       "      <td>0</td>\n",
       "      <td>?</td>\n",
       "      <td>0</td>\n",
       "      <td>?</td>\n",
       "      <td>other</td>\n",
       "      <td>0</td>\n",
       "    </tr>\n",
       "    <tr>\n",
       "      <th>3768</th>\n",
       "      <td>68</td>\n",
       "      <td>1</td>\n",
       "      <td>0</td>\n",
       "      <td>0</td>\n",
       "      <td>0</td>\n",
       "      <td>0</td>\n",
       "      <td>0</td>\n",
       "      <td>0</td>\n",
       "      <td>0</td>\n",
       "      <td>0</td>\n",
       "      <td>...</td>\n",
       "      <td>1</td>\n",
       "      <td>124</td>\n",
       "      <td>1</td>\n",
       "      <td>1.08</td>\n",
       "      <td>1</td>\n",
       "      <td>114</td>\n",
       "      <td>0</td>\n",
       "      <td>?</td>\n",
       "      <td>SVI</td>\n",
       "      <td>0</td>\n",
       "    </tr>\n",
       "    <tr>\n",
       "      <th>3769</th>\n",
       "      <td>74</td>\n",
       "      <td>1</td>\n",
       "      <td>0</td>\n",
       "      <td>0</td>\n",
       "      <td>0</td>\n",
       "      <td>0</td>\n",
       "      <td>0</td>\n",
       "      <td>0</td>\n",
       "      <td>0</td>\n",
       "      <td>0</td>\n",
       "      <td>...</td>\n",
       "      <td>1</td>\n",
       "      <td>112</td>\n",
       "      <td>1</td>\n",
       "      <td>1.07</td>\n",
       "      <td>1</td>\n",
       "      <td>105</td>\n",
       "      <td>0</td>\n",
       "      <td>?</td>\n",
       "      <td>other</td>\n",
       "      <td>0</td>\n",
       "    </tr>\n",
       "    <tr>\n",
       "      <th>3770</th>\n",
       "      <td>72</td>\n",
       "      <td>0</td>\n",
       "      <td>0</td>\n",
       "      <td>0</td>\n",
       "      <td>0</td>\n",
       "      <td>0</td>\n",
       "      <td>0</td>\n",
       "      <td>0</td>\n",
       "      <td>0</td>\n",
       "      <td>0</td>\n",
       "      <td>...</td>\n",
       "      <td>1</td>\n",
       "      <td>82</td>\n",
       "      <td>1</td>\n",
       "      <td>0.94</td>\n",
       "      <td>1</td>\n",
       "      <td>87</td>\n",
       "      <td>0</td>\n",
       "      <td>?</td>\n",
       "      <td>SVI</td>\n",
       "      <td>0</td>\n",
       "    </tr>\n",
       "    <tr>\n",
       "      <th>3771</th>\n",
       "      <td>64</td>\n",
       "      <td>1</td>\n",
       "      <td>0</td>\n",
       "      <td>0</td>\n",
       "      <td>0</td>\n",
       "      <td>0</td>\n",
       "      <td>0</td>\n",
       "      <td>0</td>\n",
       "      <td>0</td>\n",
       "      <td>0</td>\n",
       "      <td>...</td>\n",
       "      <td>1</td>\n",
       "      <td>99</td>\n",
       "      <td>1</td>\n",
       "      <td>1.07</td>\n",
       "      <td>1</td>\n",
       "      <td>92</td>\n",
       "      <td>0</td>\n",
       "      <td>?</td>\n",
       "      <td>other</td>\n",
       "      <td>0</td>\n",
       "    </tr>\n",
       "  </tbody>\n",
       "</table>\n",
       "<p>3772 rows × 30 columns</p>\n",
       "</div>"
      ],
      "text/plain": [
       "     age sex  on thyroxine  query on thyroxine  on antithyroid medication  \\\n",
       "0     41   1             0                   0                          0   \n",
       "1     23   1             0                   0                          0   \n",
       "2     46   0             0                   0                          0   \n",
       "3     70   1             1                   0                          0   \n",
       "4     70   1             0                   0                          0   \n",
       "...   ..  ..           ...                 ...                        ...   \n",
       "3767  30   1             0                   0                          0   \n",
       "3768  68   1             0                   0                          0   \n",
       "3769  74   1             0                   0                          0   \n",
       "3770  72   0             0                   0                          0   \n",
       "3771  64   1             0                   0                          0   \n",
       "\n",
       "      sick  pregnant  thyroid surgery  I131 treatment  query hypothyroid  ...  \\\n",
       "0        0         0                0               0                  0  ...   \n",
       "1        0         0                0               0                  0  ...   \n",
       "2        0         0                0               0                  0  ...   \n",
       "3        0         0                0               0                  0  ...   \n",
       "4        0         0                0               0                  0  ...   \n",
       "...    ...       ...              ...             ...                ...  ...   \n",
       "3767     0         0                0               0                  0  ...   \n",
       "3768     0         0                0               0                  0  ...   \n",
       "3769     0         0                0               0                  0  ...   \n",
       "3770     0         0                0               0                  0  ...   \n",
       "3771     0         0                0               0                  0  ...   \n",
       "\n",
       "      TT4 measured  TT4  T4U measured   T4U  FTI measured  FTI  TBG measured  \\\n",
       "0                1  125             1  1.14             1  109             0   \n",
       "1                1  102             0     ?             0    ?             0   \n",
       "2                1  109             1  0.91             1  120             0   \n",
       "3                1  175             0     ?             0    ?             0   \n",
       "4                1   61             1  0.87             1   70             0   \n",
       "...            ...  ...           ...   ...           ...  ...           ...   \n",
       "3767             0    ?             0     ?             0    ?             0   \n",
       "3768             1  124             1  1.08             1  114             0   \n",
       "3769             1  112             1  1.07             1  105             0   \n",
       "3770             1   82             1  0.94             1   87             0   \n",
       "3771             1   99             1  1.07             1   92             0   \n",
       "\n",
       "     TBG  referral source binaryClass  \n",
       "0      ?             SVHC           0  \n",
       "1      ?            other           0  \n",
       "2      ?            other           0  \n",
       "3      ?            other           0  \n",
       "4      ?              SVI           0  \n",
       "...   ..              ...         ...  \n",
       "3767   ?            other           0  \n",
       "3768   ?              SVI           0  \n",
       "3769   ?            other           0  \n",
       "3770   ?              SVI           0  \n",
       "3771   ?            other           0  \n",
       "\n",
       "[3772 rows x 30 columns]"
      ]
     },
     "execution_count": 12,
     "metadata": {},
     "output_type": "execute_result"
    }
   ],
   "source": [
    "df"
   ]
  },
  {
   "cell_type": "code",
   "execution_count": 13,
   "id": "d76c630f",
   "metadata": {
    "execution": {
     "iopub.execute_input": "2023-07-21T08:35:45.048398Z",
     "iopub.status.busy": "2023-07-21T08:35:45.047935Z",
     "iopub.status.idle": "2023-07-21T08:35:45.055939Z",
     "shell.execute_reply": "2023-07-21T08:35:45.055040Z"
    },
    "id": "PBIu5XkrkEGX",
    "outputId": "4a2a7060-983c-448c-968a-6472cd7a9532",
    "papermill": {
     "duration": 0.029778,
     "end_time": "2023-07-21T08:35:45.058064",
     "exception": false,
     "start_time": "2023-07-21T08:35:45.028286",
     "status": "completed"
    },
    "tags": []
   },
   "outputs": [
    {
     "data": {
      "text/plain": [
       "0"
      ]
     },
     "execution_count": 13,
     "metadata": {},
     "output_type": "execute_result"
    }
   ],
   "source": [
    "df['sex'].isnull().sum()"
   ]
  },
  {
   "cell_type": "code",
   "execution_count": 14,
   "id": "2dbd4161",
   "metadata": {
    "execution": {
     "iopub.execute_input": "2023-07-21T08:35:45.096376Z",
     "iopub.status.busy": "2023-07-21T08:35:45.095920Z",
     "iopub.status.idle": "2023-07-21T08:35:45.107125Z",
     "shell.execute_reply": "2023-07-21T08:35:45.104951Z"
    },
    "id": "D66D05zOkNNS",
    "outputId": "b385b6e9-98c6-4371-96e5-9a8898419fc2",
    "papermill": {
     "duration": 0.033548,
     "end_time": "2023-07-21T08:35:45.109865",
     "exception": false,
     "start_time": "2023-07-21T08:35:45.076317",
     "status": "completed"
    },
    "tags": []
   },
   "outputs": [
    {
     "data": {
      "text/plain": [
       "?    3772\n",
       "Name: TBG, dtype: int64"
      ]
     },
     "execution_count": 14,
     "metadata": {},
     "output_type": "execute_result"
    }
   ],
   "source": [
    "df[\"TBG\"].value_counts()"
   ]
  },
  {
   "cell_type": "code",
   "execution_count": 15,
   "id": "f97e4423",
   "metadata": {
    "execution": {
     "iopub.execute_input": "2023-07-21T08:35:45.149962Z",
     "iopub.status.busy": "2023-07-21T08:35:45.149098Z",
     "iopub.status.idle": "2023-07-21T08:35:45.155942Z",
     "shell.execute_reply": "2023-07-21T08:35:45.154780Z"
    },
    "id": "L79v8Ti5kRGa",
    "papermill": {
     "duration": 0.029573,
     "end_time": "2023-07-21T08:35:45.158430",
     "exception": false,
     "start_time": "2023-07-21T08:35:45.128857",
     "status": "completed"
    },
    "tags": []
   },
   "outputs": [],
   "source": [
    "df=df.drop(\"TBG\",axis=1)"
   ]
  },
  {
   "cell_type": "code",
   "execution_count": 16,
   "id": "c0e44259",
   "metadata": {
    "execution": {
     "iopub.execute_input": "2023-07-21T08:35:45.197898Z",
     "iopub.status.busy": "2023-07-21T08:35:45.196831Z",
     "iopub.status.idle": "2023-07-21T08:35:45.218591Z",
     "shell.execute_reply": "2023-07-21T08:35:45.217659Z"
    },
    "id": "6LDzqcItkgww",
    "papermill": {
     "duration": 0.044253,
     "end_time": "2023-07-21T08:35:45.221272",
     "exception": false,
     "start_time": "2023-07-21T08:35:45.177019",
     "status": "completed"
    },
    "tags": []
   },
   "outputs": [],
   "source": [
    "df=df.replace({\"?\":np.NAN})"
   ]
  },
  {
   "cell_type": "code",
   "execution_count": 17,
   "id": "b48ebbf4",
   "metadata": {
    "execution": {
     "iopub.execute_input": "2023-07-21T08:35:45.260054Z",
     "iopub.status.busy": "2023-07-21T08:35:45.259665Z",
     "iopub.status.idle": "2023-07-21T08:35:45.278658Z",
     "shell.execute_reply": "2023-07-21T08:35:45.277634Z"
    },
    "id": "aI_s_zkHkk0W",
    "outputId": "51e7c709-d4c6-46cb-edaa-d31a0fb13a24",
    "papermill": {
     "duration": 0.04104,
     "end_time": "2023-07-21T08:35:45.280941",
     "exception": false,
     "start_time": "2023-07-21T08:35:45.239901",
     "status": "completed"
    },
    "tags": []
   },
   "outputs": [
    {
     "data": {
      "text/plain": [
       "age                            1\n",
       "sex                          150\n",
       "on thyroxine                   0\n",
       "query on thyroxine             0\n",
       "on antithyroid medication      0\n",
       "sick                           0\n",
       "pregnant                       0\n",
       "thyroid surgery                0\n",
       "I131 treatment                 0\n",
       "query hypothyroid              0\n",
       "query hyperthyroid             0\n",
       "lithium                        0\n",
       "goitre                         0\n",
       "tumor                          0\n",
       "hypopituitary                  0\n",
       "psych                          0\n",
       "TSH measured                   0\n",
       "TSH                          369\n",
       "T3 measured                    0\n",
       "T3                           769\n",
       "TT4 measured                   0\n",
       "TT4                          231\n",
       "T4U measured                   0\n",
       "T4U                          387\n",
       "FTI measured                   0\n",
       "FTI                          385\n",
       "TBG measured                   0\n",
       "referral source                0\n",
       "binaryClass                    0\n",
       "dtype: int64"
      ]
     },
     "execution_count": 17,
     "metadata": {},
     "output_type": "execute_result"
    }
   ],
   "source": [
    "df.isnull().sum()"
   ]
  },
  {
   "cell_type": "code",
   "execution_count": 18,
   "id": "4fed1560",
   "metadata": {
    "execution": {
     "iopub.execute_input": "2023-07-21T08:35:45.320136Z",
     "iopub.status.busy": "2023-07-21T08:35:45.319343Z",
     "iopub.status.idle": "2023-07-21T08:35:45.328155Z",
     "shell.execute_reply": "2023-07-21T08:35:45.326981Z"
    },
    "id": "PJGmnp8Yk1pI",
    "outputId": "83003fca-e8ad-4727-eec3-c25b0c4a7e4f",
    "papermill": {
     "duration": 0.030906,
     "end_time": "2023-07-21T08:35:45.330432",
     "exception": false,
     "start_time": "2023-07-21T08:35:45.299526",
     "status": "completed"
    },
    "tags": []
   },
   "outputs": [
    {
     "data": {
      "text/plain": [
       "other    2201\n",
       "SVI      1034\n",
       "SVHC      386\n",
       "STMW      112\n",
       "SVHD       39\n",
       "Name: referral source, dtype: int64"
      ]
     },
     "execution_count": 18,
     "metadata": {},
     "output_type": "execute_result"
    }
   ],
   "source": [
    "df[\"referral source\"].value_counts()"
   ]
  },
  {
   "cell_type": "code",
   "execution_count": 19,
   "id": "8d0df18a",
   "metadata": {
    "execution": {
     "iopub.execute_input": "2023-07-21T08:35:45.370475Z",
     "iopub.status.busy": "2023-07-21T08:35:45.369866Z",
     "iopub.status.idle": "2023-07-21T08:35:45.376598Z",
     "shell.execute_reply": "2023-07-21T08:35:45.375502Z"
    },
    "id": "GEQMIFSflZX4",
    "papermill": {
     "duration": 0.029148,
     "end_time": "2023-07-21T08:35:45.378774",
     "exception": false,
     "start_time": "2023-07-21T08:35:45.349626",
     "status": "completed"
    },
    "tags": []
   },
   "outputs": [],
   "source": [
    "df=df.drop(\"referral source\",axis=1)"
   ]
  },
  {
   "cell_type": "code",
   "execution_count": 20,
   "id": "9d05c4bb",
   "metadata": {
    "execution": {
     "iopub.execute_input": "2023-07-21T08:35:45.418569Z",
     "iopub.status.busy": "2023-07-21T08:35:45.417850Z",
     "iopub.status.idle": "2023-07-21T08:35:45.439541Z",
     "shell.execute_reply": "2023-07-21T08:35:45.438115Z"
    },
    "id": "OR52HSBmlfxh",
    "outputId": "93eb703f-1b42-4795-e84d-a6cc9d9c496c",
    "papermill": {
     "duration": 0.044719,
     "end_time": "2023-07-21T08:35:45.442324",
     "exception": false,
     "start_time": "2023-07-21T08:35:45.397605",
     "status": "completed"
    },
    "tags": []
   },
   "outputs": [
    {
     "name": "stdout",
     "output_type": "stream",
     "text": [
      "<class 'pandas.core.frame.DataFrame'>\n",
      "RangeIndex: 3772 entries, 0 to 3771\n",
      "Data columns (total 28 columns):\n",
      " #   Column                     Non-Null Count  Dtype  \n",
      "---  ------                     --------------  -----  \n",
      " 0   age                        3771 non-null   object \n",
      " 1   sex                        3622 non-null   float64\n",
      " 2   on thyroxine               3772 non-null   int64  \n",
      " 3   query on thyroxine         3772 non-null   int64  \n",
      " 4   on antithyroid medication  3772 non-null   int64  \n",
      " 5   sick                       3772 non-null   int64  \n",
      " 6   pregnant                   3772 non-null   int64  \n",
      " 7   thyroid surgery            3772 non-null   int64  \n",
      " 8   I131 treatment             3772 non-null   int64  \n",
      " 9   query hypothyroid          3772 non-null   int64  \n",
      " 10  query hyperthyroid         3772 non-null   int64  \n",
      " 11  lithium                    3772 non-null   int64  \n",
      " 12  goitre                     3772 non-null   int64  \n",
      " 13  tumor                      3772 non-null   int64  \n",
      " 14  hypopituitary              3772 non-null   int64  \n",
      " 15  psych                      3772 non-null   int64  \n",
      " 16  TSH measured               3772 non-null   int64  \n",
      " 17  TSH                        3403 non-null   object \n",
      " 18  T3 measured                3772 non-null   int64  \n",
      " 19  T3                         3003 non-null   object \n",
      " 20  TT4 measured               3772 non-null   int64  \n",
      " 21  TT4                        3541 non-null   object \n",
      " 22  T4U measured               3772 non-null   int64  \n",
      " 23  T4U                        3385 non-null   object \n",
      " 24  FTI measured               3772 non-null   int64  \n",
      " 25  FTI                        3387 non-null   object \n",
      " 26  TBG measured               3772 non-null   int64  \n",
      " 27  binaryClass                3772 non-null   int64  \n",
      "dtypes: float64(1), int64(21), object(6)\n",
      "memory usage: 825.2+ KB\n"
     ]
    }
   ],
   "source": [
    "df.info()"
   ]
  },
  {
   "cell_type": "code",
   "execution_count": 21,
   "id": "4e552d78",
   "metadata": {
    "execution": {
     "iopub.execute_input": "2023-07-21T08:35:45.483939Z",
     "iopub.status.busy": "2023-07-21T08:35:45.483473Z",
     "iopub.status.idle": "2023-07-21T08:35:45.492885Z",
     "shell.execute_reply": "2023-07-21T08:35:45.491486Z"
    },
    "id": "4fPo0FqXlvD7",
    "outputId": "3d26fb41-92d9-4118-a0bc-861fa93a28ac",
    "papermill": {
     "duration": 0.032343,
     "end_time": "2023-07-21T08:35:45.495259",
     "exception": false,
     "start_time": "2023-07-21T08:35:45.462916",
     "status": "completed"
    },
    "tags": []
   },
   "outputs": [
    {
     "data": {
      "text/plain": [
       "1    3003\n",
       "0     769\n",
       "Name: T3 measured, dtype: int64"
      ]
     },
     "execution_count": 21,
     "metadata": {},
     "output_type": "execute_result"
    }
   ],
   "source": [
    "df[\"T3 measured\"].value_counts()"
   ]
  },
  {
   "cell_type": "code",
   "execution_count": 22,
   "id": "8af564e6",
   "metadata": {
    "execution": {
     "iopub.execute_input": "2023-07-21T08:35:45.535505Z",
     "iopub.status.busy": "2023-07-21T08:35:45.535040Z",
     "iopub.status.idle": "2023-07-21T08:35:45.543229Z",
     "shell.execute_reply": "2023-07-21T08:35:45.542425Z"
    },
    "id": "oT0Qs1w0l-oz",
    "outputId": "4a1bc695-60bb-4e7e-f471-06540e2a9b70",
    "papermill": {
     "duration": 0.031168,
     "end_time": "2023-07-21T08:35:45.545679",
     "exception": false,
     "start_time": "2023-07-21T08:35:45.514511",
     "status": "completed"
    },
    "tags": []
   },
   "outputs": [
    {
     "data": {
      "text/plain": [
       "1    3541\n",
       "0     231\n",
       "Name: TT4 measured, dtype: int64"
      ]
     },
     "execution_count": 22,
     "metadata": {},
     "output_type": "execute_result"
    }
   ],
   "source": [
    "df[\"TT4 measured\"].value_counts()"
   ]
  },
  {
   "cell_type": "code",
   "execution_count": 23,
   "id": "27f050f0",
   "metadata": {
    "execution": {
     "iopub.execute_input": "2023-07-21T08:35:45.586087Z",
     "iopub.status.busy": "2023-07-21T08:35:45.585696Z",
     "iopub.status.idle": "2023-07-21T08:35:45.594616Z",
     "shell.execute_reply": "2023-07-21T08:35:45.593455Z"
    },
    "id": "p6Gpzo9EmBrz",
    "outputId": "ddf9f5fd-d5ec-4841-8e6d-cd8a3be35a79",
    "papermill": {
     "duration": 0.032005,
     "end_time": "2023-07-21T08:35:45.596967",
     "exception": false,
     "start_time": "2023-07-21T08:35:45.564962",
     "status": "completed"
    },
    "tags": []
   },
   "outputs": [
    {
     "data": {
      "text/plain": [
       "1    3387\n",
       "0     385\n",
       "Name: FTI measured, dtype: int64"
      ]
     },
     "execution_count": 23,
     "metadata": {},
     "output_type": "execute_result"
    }
   ],
   "source": [
    "\n",
    "df[\"FTI measured\"].value_counts()"
   ]
  },
  {
   "cell_type": "code",
   "execution_count": 24,
   "id": "935cfd69",
   "metadata": {
    "execution": {
     "iopub.execute_input": "2023-07-21T08:35:45.637823Z",
     "iopub.status.busy": "2023-07-21T08:35:45.637422Z",
     "iopub.status.idle": "2023-07-21T08:35:45.646062Z",
     "shell.execute_reply": "2023-07-21T08:35:45.644944Z"
    },
    "id": "_p0OVpIQmE0p",
    "outputId": "d12bd741-fc62-4689-ac88-af83eaefbcb6",
    "papermill": {
     "duration": 0.031815,
     "end_time": "2023-07-21T08:35:45.648402",
     "exception": false,
     "start_time": "2023-07-21T08:35:45.616587",
     "status": "completed"
    },
    "tags": []
   },
   "outputs": [
    {
     "data": {
      "text/plain": [
       "0    3772\n",
       "Name: TBG measured, dtype: int64"
      ]
     },
     "execution_count": 24,
     "metadata": {},
     "output_type": "execute_result"
    }
   ],
   "source": [
    "df[\"TBG measured\"].value_counts()"
   ]
  },
  {
   "cell_type": "code",
   "execution_count": 25,
   "id": "6753c787",
   "metadata": {
    "execution": {
     "iopub.execute_input": "2023-07-21T08:35:45.689162Z",
     "iopub.status.busy": "2023-07-21T08:35:45.688729Z",
     "iopub.status.idle": "2023-07-21T08:35:45.697691Z",
     "shell.execute_reply": "2023-07-21T08:35:45.696415Z"
    },
    "id": "mfyx391DmIvu",
    "outputId": "adad6893-a77f-40e5-bcac-c1b38d8598e6",
    "papermill": {
     "duration": 0.032432,
     "end_time": "2023-07-21T08:35:45.700373",
     "exception": false,
     "start_time": "2023-07-21T08:35:45.667941",
     "status": "completed"
    },
    "tags": []
   },
   "outputs": [
    {
     "data": {
      "text/plain": [
       "0    3481\n",
       "1     291\n",
       "Name: binaryClass, dtype: int64"
      ]
     },
     "execution_count": 25,
     "metadata": {},
     "output_type": "execute_result"
    }
   ],
   "source": [
    "df[\"binaryClass\"].value_counts()"
   ]
  },
  {
   "cell_type": "code",
   "execution_count": 26,
   "id": "ea855fde",
   "metadata": {
    "execution": {
     "iopub.execute_input": "2023-07-21T08:35:45.741926Z",
     "iopub.status.busy": "2023-07-21T08:35:45.741514Z",
     "iopub.status.idle": "2023-07-21T08:35:45.775798Z",
     "shell.execute_reply": "2023-07-21T08:35:45.774679Z"
    },
    "id": "7VLcahg3mRiV",
    "outputId": "c076b3e8-a818-473b-b71b-f550ff478b5a",
    "papermill": {
     "duration": 0.058067,
     "end_time": "2023-07-21T08:35:45.778332",
     "exception": false,
     "start_time": "2023-07-21T08:35:45.720265",
     "status": "completed"
    },
    "tags": []
   },
   "outputs": [
    {
     "data": {
      "text/plain": [
       "age                          float64\n",
       "sex                          float64\n",
       "on thyroxine                   int64\n",
       "query on thyroxine             int64\n",
       "on antithyroid medication      int64\n",
       "sick                           int64\n",
       "pregnant                       int64\n",
       "thyroid surgery                int64\n",
       "I131 treatment                 int64\n",
       "query hypothyroid              int64\n",
       "query hyperthyroid             int64\n",
       "lithium                        int64\n",
       "goitre                         int64\n",
       "tumor                          int64\n",
       "hypopituitary                  int64\n",
       "psych                          int64\n",
       "TSH measured                   int64\n",
       "TSH                          float64\n",
       "T3 measured                    int64\n",
       "T3                           float64\n",
       "TT4 measured                   int64\n",
       "TT4                          float64\n",
       "T4U measured                   int64\n",
       "T4U                          float64\n",
       "FTI measured                   int64\n",
       "FTI                          float64\n",
       "TBG measured                   int64\n",
       "binaryClass                    int64\n",
       "dtype: object"
      ]
     },
     "execution_count": 26,
     "metadata": {},
     "output_type": "execute_result"
    }
   ],
   "source": [
    "cols = df.columns[df.dtypes.eq('object')]\n",
    "df[cols] = df[cols].apply(pd.to_numeric, errors='coerce')\n",
    "df.dtypes"
   ]
  },
  {
   "cell_type": "code",
   "execution_count": 27,
   "id": "ec2baa62",
   "metadata": {
    "execution": {
     "iopub.execute_input": "2023-07-21T08:35:45.820755Z",
     "iopub.status.busy": "2023-07-21T08:35:45.820325Z",
     "iopub.status.idle": "2023-07-21T08:35:45.831232Z",
     "shell.execute_reply": "2023-07-21T08:35:45.830129Z"
    },
    "id": "DcgVlCA7mcsu",
    "outputId": "34b2e8a0-1ae8-4cb0-f436-39e8116ac652",
    "papermill": {
     "duration": 0.035471,
     "end_time": "2023-07-21T08:35:45.833706",
     "exception": false,
     "start_time": "2023-07-21T08:35:45.798235",
     "status": "completed"
    },
    "tags": []
   },
   "outputs": [
    {
     "data": {
      "text/plain": [
       "age                            1\n",
       "sex                          150\n",
       "on thyroxine                   0\n",
       "query on thyroxine             0\n",
       "on antithyroid medication      0\n",
       "sick                           0\n",
       "pregnant                       0\n",
       "thyroid surgery                0\n",
       "I131 treatment                 0\n",
       "query hypothyroid              0\n",
       "query hyperthyroid             0\n",
       "lithium                        0\n",
       "goitre                         0\n",
       "tumor                          0\n",
       "hypopituitary                  0\n",
       "psych                          0\n",
       "TSH measured                   0\n",
       "TSH                          369\n",
       "T3 measured                    0\n",
       "T3                           769\n",
       "TT4 measured                   0\n",
       "TT4                          231\n",
       "T4U measured                   0\n",
       "T4U                          387\n",
       "FTI measured                   0\n",
       "FTI                          385\n",
       "TBG measured                   0\n",
       "binaryClass                    0\n",
       "dtype: int64"
      ]
     },
     "execution_count": 27,
     "metadata": {},
     "output_type": "execute_result"
    }
   ],
   "source": [
    "df.isnull().sum()"
   ]
  },
  {
   "cell_type": "code",
   "execution_count": 28,
   "id": "34426e93",
   "metadata": {
    "execution": {
     "iopub.execute_input": "2023-07-21T08:35:45.876020Z",
     "iopub.status.busy": "2023-07-21T08:35:45.875631Z",
     "iopub.status.idle": "2023-07-21T08:35:45.883019Z",
     "shell.execute_reply": "2023-07-21T08:35:45.881867Z"
    },
    "id": "DKhCgni_miR8",
    "outputId": "d1d45c1b-b757-4758-d7d4-385fa38d68d9",
    "papermill": {
     "duration": 0.03131,
     "end_time": "2023-07-21T08:35:45.885322",
     "exception": false,
     "start_time": "2023-07-21T08:35:45.854012",
     "status": "completed"
    },
    "tags": []
   },
   "outputs": [
    {
     "data": {
      "text/plain": [
       "0.8974019088016967"
      ]
     },
     "execution_count": 28,
     "metadata": {},
     "output_type": "execute_result"
    }
   ],
   "source": [
    "df['T4U measured'].mean()"
   ]
  },
  {
   "cell_type": "code",
   "execution_count": 29,
   "id": "2e84556a",
   "metadata": {
    "execution": {
     "iopub.execute_input": "2023-07-21T08:35:45.928105Z",
     "iopub.status.busy": "2023-07-21T08:35:45.927722Z",
     "iopub.status.idle": "2023-07-21T08:35:45.933544Z",
     "shell.execute_reply": "2023-07-21T08:35:45.932444Z"
    },
    "id": "GTY5ROlKmnGY",
    "papermill": {
     "duration": 0.03035,
     "end_time": "2023-07-21T08:35:45.935885",
     "exception": false,
     "start_time": "2023-07-21T08:35:45.905535",
     "status": "completed"
    },
    "tags": []
   },
   "outputs": [],
   "source": [
    "df['T4U measured'].fillna(df['T4U measured'].mean(), inplace=True)"
   ]
  },
  {
   "cell_type": "code",
   "execution_count": 30,
   "id": "88141d2b",
   "metadata": {
    "execution": {
     "iopub.execute_input": "2023-07-21T08:35:45.978228Z",
     "iopub.status.busy": "2023-07-21T08:35:45.977859Z",
     "iopub.status.idle": "2023-07-21T08:35:45.984005Z",
     "shell.execute_reply": "2023-07-21T08:35:45.982931Z"
    },
    "id": "niA3JTwomqXE",
    "papermill": {
     "duration": 0.030153,
     "end_time": "2023-07-21T08:35:45.986304",
     "exception": false,
     "start_time": "2023-07-21T08:35:45.956151",
     "status": "completed"
    },
    "tags": []
   },
   "outputs": [],
   "source": [
    "df['sex'].fillna(df['sex'].mean(), inplace=True)"
   ]
  },
  {
   "cell_type": "code",
   "execution_count": 31,
   "id": "668057fc",
   "metadata": {
    "execution": {
     "iopub.execute_input": "2023-07-21T08:35:46.029555Z",
     "iopub.status.busy": "2023-07-21T08:35:46.029127Z",
     "iopub.status.idle": "2023-07-21T08:35:46.035964Z",
     "shell.execute_reply": "2023-07-21T08:35:46.034699Z"
    },
    "id": "CZvhce0amtjK",
    "papermill": {
     "duration": 0.032113,
     "end_time": "2023-07-21T08:35:46.038677",
     "exception": false,
     "start_time": "2023-07-21T08:35:46.006564",
     "status": "completed"
    },
    "tags": []
   },
   "outputs": [],
   "source": [
    "df['age'].fillna(df['age'].mean(), inplace=True)"
   ]
  },
  {
   "cell_type": "code",
   "execution_count": 32,
   "id": "20b0b0b5",
   "metadata": {
    "execution": {
     "iopub.execute_input": "2023-07-21T08:35:46.081422Z",
     "iopub.status.busy": "2023-07-21T08:35:46.081000Z",
     "iopub.status.idle": "2023-07-21T08:35:46.499043Z",
     "shell.execute_reply": "2023-07-21T08:35:46.497850Z"
    },
    "id": "KSGs39Cumxte",
    "papermill": {
     "duration": 0.442624,
     "end_time": "2023-07-21T08:35:46.501776",
     "exception": false,
     "start_time": "2023-07-21T08:35:46.059152",
     "status": "completed"
    },
    "tags": []
   },
   "outputs": [],
   "source": [
    "from sklearn.impute import SimpleImputer\n",
    "\n",
    "imputer = SimpleImputer(strategy='mean')"
   ]
  },
  {
   "cell_type": "code",
   "execution_count": 33,
   "id": "f5976826",
   "metadata": {
    "execution": {
     "iopub.execute_input": "2023-07-21T08:35:46.544336Z",
     "iopub.status.busy": "2023-07-21T08:35:46.543892Z",
     "iopub.status.idle": "2023-07-21T08:35:46.575269Z",
     "shell.execute_reply": "2023-07-21T08:35:46.574098Z"
    },
    "id": "qkfYBoDCm1AC",
    "papermill": {
     "duration": 0.055953,
     "end_time": "2023-07-21T08:35:46.578119",
     "exception": false,
     "start_time": "2023-07-21T08:35:46.522166",
     "status": "completed"
    },
    "tags": []
   },
   "outputs": [],
   "source": [
    "df['TSH'] = imputer.fit_transform(df[['TSH']])\n",
    "df['T3'] = imputer.fit_transform(df[['T3']])\n",
    "df['TT4'] = imputer.fit_transform(df[['TT4']])\n",
    "df['T4U'] = imputer.fit_transform(df[['T4U']])\n",
    "df['FTI'] = imputer.fit_transform(df[['FTI']])"
   ]
  },
  {
   "cell_type": "code",
   "execution_count": 34,
   "id": "0ee28bd0",
   "metadata": {
    "execution": {
     "iopub.execute_input": "2023-07-21T08:35:46.620862Z",
     "iopub.status.busy": "2023-07-21T08:35:46.620440Z",
     "iopub.status.idle": "2023-07-21T08:35:46.630872Z",
     "shell.execute_reply": "2023-07-21T08:35:46.629794Z"
    },
    "id": "0KZo0O7Um5sI",
    "outputId": "cdf77e50-134c-4e3b-d62f-2d5fae8c6f9b",
    "papermill": {
     "duration": 0.034641,
     "end_time": "2023-07-21T08:35:46.633167",
     "exception": false,
     "start_time": "2023-07-21T08:35:46.598526",
     "status": "completed"
    },
    "tags": []
   },
   "outputs": [
    {
     "data": {
      "text/plain": [
       "age                          0\n",
       "sex                          0\n",
       "on thyroxine                 0\n",
       "query on thyroxine           0\n",
       "on antithyroid medication    0\n",
       "sick                         0\n",
       "pregnant                     0\n",
       "thyroid surgery              0\n",
       "I131 treatment               0\n",
       "query hypothyroid            0\n",
       "query hyperthyroid           0\n",
       "lithium                      0\n",
       "goitre                       0\n",
       "tumor                        0\n",
       "hypopituitary                0\n",
       "psych                        0\n",
       "TSH measured                 0\n",
       "TSH                          0\n",
       "T3 measured                  0\n",
       "T3                           0\n",
       "TT4 measured                 0\n",
       "TT4                          0\n",
       "T4U measured                 0\n",
       "T4U                          0\n",
       "FTI measured                 0\n",
       "FTI                          0\n",
       "TBG measured                 0\n",
       "binaryClass                  0\n",
       "dtype: int64"
      ]
     },
     "execution_count": 34,
     "metadata": {},
     "output_type": "execute_result"
    }
   ],
   "source": [
    "df.isnull().sum()"
   ]
  },
  {
   "cell_type": "code",
   "execution_count": 35,
   "id": "0ba53c66",
   "metadata": {
    "execution": {
     "iopub.execute_input": "2023-07-21T08:35:46.676589Z",
     "iopub.status.busy": "2023-07-21T08:35:46.676177Z",
     "iopub.status.idle": "2023-07-21T08:35:46.682120Z",
     "shell.execute_reply": "2023-07-21T08:35:46.681265Z"
    },
    "id": "QcQtaYxmm9Sl",
    "papermill": {
     "duration": 0.030414,
     "end_time": "2023-07-21T08:35:46.684240",
     "exception": false,
     "start_time": "2023-07-21T08:35:46.653826",
     "status": "completed"
    },
    "tags": []
   },
   "outputs": [],
   "source": [
    "x = df.drop('binaryClass', axis=1)\n",
    "y = df['binaryClass']"
   ]
  },
  {
   "cell_type": "code",
   "execution_count": 36,
   "id": "5e0bcc21",
   "metadata": {
    "execution": {
     "iopub.execute_input": "2023-07-21T08:35:46.728088Z",
     "iopub.status.busy": "2023-07-21T08:35:46.727039Z",
     "iopub.status.idle": "2023-07-21T08:35:46.761293Z",
     "shell.execute_reply": "2023-07-21T08:35:46.760119Z"
    },
    "id": "CfmdYrmunGQP",
    "outputId": "1f50ed54-3ec4-4ebf-ae75-b4d594804ee7",
    "papermill": {
     "duration": 0.059278,
     "end_time": "2023-07-21T08:35:46.763961",
     "exception": false,
     "start_time": "2023-07-21T08:35:46.704683",
     "status": "completed"
    },
    "tags": []
   },
   "outputs": [
    {
     "data": {
      "text/html": [
       "<div>\n",
       "<style scoped>\n",
       "    .dataframe tbody tr th:only-of-type {\n",
       "        vertical-align: middle;\n",
       "    }\n",
       "\n",
       "    .dataframe tbody tr th {\n",
       "        vertical-align: top;\n",
       "    }\n",
       "\n",
       "    .dataframe thead th {\n",
       "        text-align: right;\n",
       "    }\n",
       "</style>\n",
       "<table border=\"1\" class=\"dataframe\">\n",
       "  <thead>\n",
       "    <tr style=\"text-align: right;\">\n",
       "      <th></th>\n",
       "      <th>age</th>\n",
       "      <th>sex</th>\n",
       "      <th>on thyroxine</th>\n",
       "      <th>query on thyroxine</th>\n",
       "      <th>on antithyroid medication</th>\n",
       "      <th>sick</th>\n",
       "      <th>pregnant</th>\n",
       "      <th>thyroid surgery</th>\n",
       "      <th>I131 treatment</th>\n",
       "      <th>query hypothyroid</th>\n",
       "      <th>...</th>\n",
       "      <th>TSH</th>\n",
       "      <th>T3 measured</th>\n",
       "      <th>T3</th>\n",
       "      <th>TT4 measured</th>\n",
       "      <th>TT4</th>\n",
       "      <th>T4U measured</th>\n",
       "      <th>T4U</th>\n",
       "      <th>FTI measured</th>\n",
       "      <th>FTI</th>\n",
       "      <th>TBG measured</th>\n",
       "    </tr>\n",
       "  </thead>\n",
       "  <tbody>\n",
       "    <tr>\n",
       "      <th>0</th>\n",
       "      <td>41.0</td>\n",
       "      <td>1.0</td>\n",
       "      <td>0</td>\n",
       "      <td>0</td>\n",
       "      <td>0</td>\n",
       "      <td>0</td>\n",
       "      <td>0</td>\n",
       "      <td>0</td>\n",
       "      <td>0</td>\n",
       "      <td>0</td>\n",
       "      <td>...</td>\n",
       "      <td>1.300000</td>\n",
       "      <td>1</td>\n",
       "      <td>2.5000</td>\n",
       "      <td>1</td>\n",
       "      <td>125.000000</td>\n",
       "      <td>1</td>\n",
       "      <td>1.140</td>\n",
       "      <td>1</td>\n",
       "      <td>109.000000</td>\n",
       "      <td>0</td>\n",
       "    </tr>\n",
       "    <tr>\n",
       "      <th>1</th>\n",
       "      <td>23.0</td>\n",
       "      <td>1.0</td>\n",
       "      <td>0</td>\n",
       "      <td>0</td>\n",
       "      <td>0</td>\n",
       "      <td>0</td>\n",
       "      <td>0</td>\n",
       "      <td>0</td>\n",
       "      <td>0</td>\n",
       "      <td>0</td>\n",
       "      <td>...</td>\n",
       "      <td>4.100000</td>\n",
       "      <td>1</td>\n",
       "      <td>2.0000</td>\n",
       "      <td>1</td>\n",
       "      <td>102.000000</td>\n",
       "      <td>0</td>\n",
       "      <td>0.995</td>\n",
       "      <td>0</td>\n",
       "      <td>110.469649</td>\n",
       "      <td>0</td>\n",
       "    </tr>\n",
       "    <tr>\n",
       "      <th>2</th>\n",
       "      <td>46.0</td>\n",
       "      <td>0.0</td>\n",
       "      <td>0</td>\n",
       "      <td>0</td>\n",
       "      <td>0</td>\n",
       "      <td>0</td>\n",
       "      <td>0</td>\n",
       "      <td>0</td>\n",
       "      <td>0</td>\n",
       "      <td>0</td>\n",
       "      <td>...</td>\n",
       "      <td>0.980000</td>\n",
       "      <td>0</td>\n",
       "      <td>2.0135</td>\n",
       "      <td>1</td>\n",
       "      <td>109.000000</td>\n",
       "      <td>1</td>\n",
       "      <td>0.910</td>\n",
       "      <td>1</td>\n",
       "      <td>120.000000</td>\n",
       "      <td>0</td>\n",
       "    </tr>\n",
       "    <tr>\n",
       "      <th>3</th>\n",
       "      <td>70.0</td>\n",
       "      <td>1.0</td>\n",
       "      <td>1</td>\n",
       "      <td>0</td>\n",
       "      <td>0</td>\n",
       "      <td>0</td>\n",
       "      <td>0</td>\n",
       "      <td>0</td>\n",
       "      <td>0</td>\n",
       "      <td>0</td>\n",
       "      <td>...</td>\n",
       "      <td>0.160000</td>\n",
       "      <td>1</td>\n",
       "      <td>1.9000</td>\n",
       "      <td>1</td>\n",
       "      <td>175.000000</td>\n",
       "      <td>0</td>\n",
       "      <td>0.995</td>\n",
       "      <td>0</td>\n",
       "      <td>110.469649</td>\n",
       "      <td>0</td>\n",
       "    </tr>\n",
       "    <tr>\n",
       "      <th>4</th>\n",
       "      <td>70.0</td>\n",
       "      <td>1.0</td>\n",
       "      <td>0</td>\n",
       "      <td>0</td>\n",
       "      <td>0</td>\n",
       "      <td>0</td>\n",
       "      <td>0</td>\n",
       "      <td>0</td>\n",
       "      <td>0</td>\n",
       "      <td>0</td>\n",
       "      <td>...</td>\n",
       "      <td>0.720000</td>\n",
       "      <td>1</td>\n",
       "      <td>1.2000</td>\n",
       "      <td>1</td>\n",
       "      <td>61.000000</td>\n",
       "      <td>1</td>\n",
       "      <td>0.870</td>\n",
       "      <td>1</td>\n",
       "      <td>70.000000</td>\n",
       "      <td>0</td>\n",
       "    </tr>\n",
       "    <tr>\n",
       "      <th>...</th>\n",
       "      <td>...</td>\n",
       "      <td>...</td>\n",
       "      <td>...</td>\n",
       "      <td>...</td>\n",
       "      <td>...</td>\n",
       "      <td>...</td>\n",
       "      <td>...</td>\n",
       "      <td>...</td>\n",
       "      <td>...</td>\n",
       "      <td>...</td>\n",
       "      <td>...</td>\n",
       "      <td>...</td>\n",
       "      <td>...</td>\n",
       "      <td>...</td>\n",
       "      <td>...</td>\n",
       "      <td>...</td>\n",
       "      <td>...</td>\n",
       "      <td>...</td>\n",
       "      <td>...</td>\n",
       "      <td>...</td>\n",
       "      <td>...</td>\n",
       "    </tr>\n",
       "    <tr>\n",
       "      <th>3767</th>\n",
       "      <td>30.0</td>\n",
       "      <td>1.0</td>\n",
       "      <td>0</td>\n",
       "      <td>0</td>\n",
       "      <td>0</td>\n",
       "      <td>0</td>\n",
       "      <td>0</td>\n",
       "      <td>0</td>\n",
       "      <td>0</td>\n",
       "      <td>0</td>\n",
       "      <td>...</td>\n",
       "      <td>5.086766</td>\n",
       "      <td>0</td>\n",
       "      <td>2.0135</td>\n",
       "      <td>0</td>\n",
       "      <td>108.319345</td>\n",
       "      <td>0</td>\n",
       "      <td>0.995</td>\n",
       "      <td>0</td>\n",
       "      <td>110.469649</td>\n",
       "      <td>0</td>\n",
       "    </tr>\n",
       "    <tr>\n",
       "      <th>3768</th>\n",
       "      <td>68.0</td>\n",
       "      <td>1.0</td>\n",
       "      <td>0</td>\n",
       "      <td>0</td>\n",
       "      <td>0</td>\n",
       "      <td>0</td>\n",
       "      <td>0</td>\n",
       "      <td>0</td>\n",
       "      <td>0</td>\n",
       "      <td>0</td>\n",
       "      <td>...</td>\n",
       "      <td>1.000000</td>\n",
       "      <td>1</td>\n",
       "      <td>2.1000</td>\n",
       "      <td>1</td>\n",
       "      <td>124.000000</td>\n",
       "      <td>1</td>\n",
       "      <td>1.080</td>\n",
       "      <td>1</td>\n",
       "      <td>114.000000</td>\n",
       "      <td>0</td>\n",
       "    </tr>\n",
       "    <tr>\n",
       "      <th>3769</th>\n",
       "      <td>74.0</td>\n",
       "      <td>1.0</td>\n",
       "      <td>0</td>\n",
       "      <td>0</td>\n",
       "      <td>0</td>\n",
       "      <td>0</td>\n",
       "      <td>0</td>\n",
       "      <td>0</td>\n",
       "      <td>0</td>\n",
       "      <td>0</td>\n",
       "      <td>...</td>\n",
       "      <td>5.100000</td>\n",
       "      <td>1</td>\n",
       "      <td>1.8000</td>\n",
       "      <td>1</td>\n",
       "      <td>112.000000</td>\n",
       "      <td>1</td>\n",
       "      <td>1.070</td>\n",
       "      <td>1</td>\n",
       "      <td>105.000000</td>\n",
       "      <td>0</td>\n",
       "    </tr>\n",
       "    <tr>\n",
       "      <th>3770</th>\n",
       "      <td>72.0</td>\n",
       "      <td>0.0</td>\n",
       "      <td>0</td>\n",
       "      <td>0</td>\n",
       "      <td>0</td>\n",
       "      <td>0</td>\n",
       "      <td>0</td>\n",
       "      <td>0</td>\n",
       "      <td>0</td>\n",
       "      <td>0</td>\n",
       "      <td>...</td>\n",
       "      <td>0.700000</td>\n",
       "      <td>1</td>\n",
       "      <td>2.0000</td>\n",
       "      <td>1</td>\n",
       "      <td>82.000000</td>\n",
       "      <td>1</td>\n",
       "      <td>0.940</td>\n",
       "      <td>1</td>\n",
       "      <td>87.000000</td>\n",
       "      <td>0</td>\n",
       "    </tr>\n",
       "    <tr>\n",
       "      <th>3771</th>\n",
       "      <td>64.0</td>\n",
       "      <td>1.0</td>\n",
       "      <td>0</td>\n",
       "      <td>0</td>\n",
       "      <td>0</td>\n",
       "      <td>0</td>\n",
       "      <td>0</td>\n",
       "      <td>0</td>\n",
       "      <td>0</td>\n",
       "      <td>0</td>\n",
       "      <td>...</td>\n",
       "      <td>1.000000</td>\n",
       "      <td>1</td>\n",
       "      <td>2.2000</td>\n",
       "      <td>1</td>\n",
       "      <td>99.000000</td>\n",
       "      <td>1</td>\n",
       "      <td>1.070</td>\n",
       "      <td>1</td>\n",
       "      <td>92.000000</td>\n",
       "      <td>0</td>\n",
       "    </tr>\n",
       "  </tbody>\n",
       "</table>\n",
       "<p>3772 rows × 27 columns</p>\n",
       "</div>"
      ],
      "text/plain": [
       "       age  sex  on thyroxine  query on thyroxine  on antithyroid medication  \\\n",
       "0     41.0  1.0             0                   0                          0   \n",
       "1     23.0  1.0             0                   0                          0   \n",
       "2     46.0  0.0             0                   0                          0   \n",
       "3     70.0  1.0             1                   0                          0   \n",
       "4     70.0  1.0             0                   0                          0   \n",
       "...    ...  ...           ...                 ...                        ...   \n",
       "3767  30.0  1.0             0                   0                          0   \n",
       "3768  68.0  1.0             0                   0                          0   \n",
       "3769  74.0  1.0             0                   0                          0   \n",
       "3770  72.0  0.0             0                   0                          0   \n",
       "3771  64.0  1.0             0                   0                          0   \n",
       "\n",
       "      sick  pregnant  thyroid surgery  I131 treatment  query hypothyroid  ...  \\\n",
       "0        0         0                0               0                  0  ...   \n",
       "1        0         0                0               0                  0  ...   \n",
       "2        0         0                0               0                  0  ...   \n",
       "3        0         0                0               0                  0  ...   \n",
       "4        0         0                0               0                  0  ...   \n",
       "...    ...       ...              ...             ...                ...  ...   \n",
       "3767     0         0                0               0                  0  ...   \n",
       "3768     0         0                0               0                  0  ...   \n",
       "3769     0         0                0               0                  0  ...   \n",
       "3770     0         0                0               0                  0  ...   \n",
       "3771     0         0                0               0                  0  ...   \n",
       "\n",
       "           TSH  T3 measured      T3  TT4 measured         TT4  T4U measured  \\\n",
       "0     1.300000            1  2.5000             1  125.000000             1   \n",
       "1     4.100000            1  2.0000             1  102.000000             0   \n",
       "2     0.980000            0  2.0135             1  109.000000             1   \n",
       "3     0.160000            1  1.9000             1  175.000000             0   \n",
       "4     0.720000            1  1.2000             1   61.000000             1   \n",
       "...        ...          ...     ...           ...         ...           ...   \n",
       "3767  5.086766            0  2.0135             0  108.319345             0   \n",
       "3768  1.000000            1  2.1000             1  124.000000             1   \n",
       "3769  5.100000            1  1.8000             1  112.000000             1   \n",
       "3770  0.700000            1  2.0000             1   82.000000             1   \n",
       "3771  1.000000            1  2.2000             1   99.000000             1   \n",
       "\n",
       "        T4U  FTI measured         FTI  TBG measured  \n",
       "0     1.140             1  109.000000             0  \n",
       "1     0.995             0  110.469649             0  \n",
       "2     0.910             1  120.000000             0  \n",
       "3     0.995             0  110.469649             0  \n",
       "4     0.870             1   70.000000             0  \n",
       "...     ...           ...         ...           ...  \n",
       "3767  0.995             0  110.469649             0  \n",
       "3768  1.080             1  114.000000             0  \n",
       "3769  1.070             1  105.000000             0  \n",
       "3770  0.940             1   87.000000             0  \n",
       "3771  1.070             1   92.000000             0  \n",
       "\n",
       "[3772 rows x 27 columns]"
      ]
     },
     "execution_count": 36,
     "metadata": {},
     "output_type": "execute_result"
    }
   ],
   "source": [
    "x"
   ]
  },
  {
   "cell_type": "code",
   "execution_count": 37,
   "id": "9a250c15",
   "metadata": {
    "execution": {
     "iopub.execute_input": "2023-07-21T08:35:46.808053Z",
     "iopub.status.busy": "2023-07-21T08:35:46.807669Z",
     "iopub.status.idle": "2023-07-21T08:35:46.816493Z",
     "shell.execute_reply": "2023-07-21T08:35:46.815392Z"
    },
    "id": "tECxWelanIFJ",
    "outputId": "68e1da28-5723-4fd9-be0a-02e648562b48",
    "papermill": {
     "duration": 0.033768,
     "end_time": "2023-07-21T08:35:46.818854",
     "exception": false,
     "start_time": "2023-07-21T08:35:46.785086",
     "status": "completed"
    },
    "tags": []
   },
   "outputs": [
    {
     "data": {
      "text/plain": [
       "0       0\n",
       "1       0\n",
       "2       0\n",
       "3       0\n",
       "4       0\n",
       "       ..\n",
       "3767    0\n",
       "3768    0\n",
       "3769    0\n",
       "3770    0\n",
       "3771    0\n",
       "Name: binaryClass, Length: 3772, dtype: int64"
      ]
     },
     "execution_count": 37,
     "metadata": {},
     "output_type": "execute_result"
    }
   ],
   "source": [
    "y"
   ]
  },
  {
   "cell_type": "code",
   "execution_count": 38,
   "id": "ce71553b",
   "metadata": {
    "execution": {
     "iopub.execute_input": "2023-07-21T08:35:46.863210Z",
     "iopub.status.busy": "2023-07-21T08:35:46.862834Z",
     "iopub.status.idle": "2023-07-21T08:35:46.871387Z",
     "shell.execute_reply": "2023-07-21T08:35:46.870418Z"
    },
    "id": "8PVeNHvrnM4X",
    "papermill": {
     "duration": 0.033705,
     "end_time": "2023-07-21T08:35:46.873926",
     "exception": false,
     "start_time": "2023-07-21T08:35:46.840221",
     "status": "completed"
    },
    "tags": []
   },
   "outputs": [],
   "source": [
    "from sklearn.model_selection import train_test_split\n",
    "x_train, x_test, y_train, y_test = train_test_split(x, y, test_size=0.25, random_state=42)"
   ]
  },
  {
   "cell_type": "code",
   "execution_count": 39,
   "id": "7b1d79ad",
   "metadata": {
    "execution": {
     "iopub.execute_input": "2023-07-21T08:35:46.918829Z",
     "iopub.status.busy": "2023-07-21T08:35:46.918440Z",
     "iopub.status.idle": "2023-07-21T08:35:46.925093Z",
     "shell.execute_reply": "2023-07-21T08:35:46.924016Z"
    },
    "id": "TFbMAGDTnXaT",
    "outputId": "ef7c771d-fee4-40cb-90c8-57e8770535c8",
    "papermill": {
     "duration": 0.032599,
     "end_time": "2023-07-21T08:35:46.927771",
     "exception": false,
     "start_time": "2023-07-21T08:35:46.895172",
     "status": "completed"
    },
    "tags": []
   },
   "outputs": [
    {
     "data": {
      "text/plain": [
       "(3772, 27)"
      ]
     },
     "execution_count": 39,
     "metadata": {},
     "output_type": "execute_result"
    }
   ],
   "source": [
    "x.shape"
   ]
  },
  {
   "cell_type": "code",
   "execution_count": 40,
   "id": "eacefae3",
   "metadata": {
    "execution": {
     "iopub.execute_input": "2023-07-21T08:35:46.972547Z",
     "iopub.status.busy": "2023-07-21T08:35:46.972132Z",
     "iopub.status.idle": "2023-07-21T08:35:46.987321Z",
     "shell.execute_reply": "2023-07-21T08:35:46.986047Z"
    },
    "id": "UWyG0CLYnZz3",
    "papermill": {
     "duration": 0.040627,
     "end_time": "2023-07-21T08:35:46.989751",
     "exception": false,
     "start_time": "2023-07-21T08:35:46.949124",
     "status": "completed"
    },
    "tags": []
   },
   "outputs": [],
   "source": [
    "from sklearn.preprocessing import StandardScaler\n",
    "\n",
    "sc = StandardScaler()\n",
    "sc.fit(x_train)\n",
    "x_train = sc.transform(x_train)\n",
    "x_test = sc.transform(x_test)"
   ]
  },
  {
   "cell_type": "code",
   "execution_count": 41,
   "id": "28b80e9b",
   "metadata": {
    "execution": {
     "iopub.execute_input": "2023-07-21T08:35:47.034933Z",
     "iopub.status.busy": "2023-07-21T08:35:47.034482Z",
     "iopub.status.idle": "2023-07-21T08:35:56.070058Z",
     "shell.execute_reply": "2023-07-21T08:35:56.068809Z"
    },
    "id": "VfHP3LWYndkW",
    "papermill": {
     "duration": 9.061626,
     "end_time": "2023-07-21T08:35:56.072929",
     "exception": false,
     "start_time": "2023-07-21T08:35:47.011303",
     "status": "completed"
    },
    "tags": []
   },
   "outputs": [
    {
     "name": "stderr",
     "output_type": "stream",
     "text": [
      "/opt/conda/lib/python3.10/site-packages/tensorflow_io/python/ops/__init__.py:98: UserWarning: unable to load libtensorflow_io_plugins.so: unable to open file: libtensorflow_io_plugins.so, from paths: ['/opt/conda/lib/python3.10/site-packages/tensorflow_io/python/ops/libtensorflow_io_plugins.so']\n",
      "caused by: ['/opt/conda/lib/python3.10/site-packages/tensorflow_io/python/ops/libtensorflow_io_plugins.so: undefined symbol: _ZN3tsl6StatusC1EN10tensorflow5error4CodeESt17basic_string_viewIcSt11char_traitsIcEENS_14SourceLocationE']\n",
      "  warnings.warn(f\"unable to load libtensorflow_io_plugins.so: {e}\")\n",
      "/opt/conda/lib/python3.10/site-packages/tensorflow_io/python/ops/__init__.py:104: UserWarning: file system plugins are not loaded: unable to open file: libtensorflow_io.so, from paths: ['/opt/conda/lib/python3.10/site-packages/tensorflow_io/python/ops/libtensorflow_io.so']\n",
      "caused by: ['/opt/conda/lib/python3.10/site-packages/tensorflow_io/python/ops/libtensorflow_io.so: undefined symbol: _ZTVN10tensorflow13GcsFileSystemE']\n",
      "  warnings.warn(f\"file system plugins are not loaded: {e}\")\n"
     ]
    }
   ],
   "source": [
    "from tensorflow.keras.models import Sequential\n",
    "from tensorflow.keras.layers import Dense, Dropout\n",
    "from tensorflow.keras.optimizers import Adam\n",
    "from tensorflow.keras.callbacks import ReduceLROnPlateau, ModelCheckpoint, EarlyStopping"
   ]
  },
  {
   "cell_type": "code",
   "execution_count": 42,
   "id": "587ab7b7",
   "metadata": {
    "execution": {
     "iopub.execute_input": "2023-07-21T08:35:56.119715Z",
     "iopub.status.busy": "2023-07-21T08:35:56.118786Z",
     "iopub.status.idle": "2023-07-21T08:35:56.344935Z",
     "shell.execute_reply": "2023-07-21T08:35:56.343996Z"
    },
    "id": "7w35OxohnhKT",
    "papermill": {
     "duration": 0.252485,
     "end_time": "2023-07-21T08:35:56.347513",
     "exception": false,
     "start_time": "2023-07-21T08:35:56.095028",
     "status": "completed"
    },
    "tags": []
   },
   "outputs": [],
   "source": [
    "model = Sequential()\n",
    "model.add(Dense(256, input_shape=[x.shape[1]], activation='tanh'))\n",
    "model.add(Dropout(0.4))\n",
    "model.add(Dense(128, activation='tanh'))\n",
    "model.add(Dropout(0.3))\n",
    "model.add(Dense(63, activation='tanh'))\n",
    "model.add(Dropout(0.2))\n",
    "\n",
    "model.add(Dense(1, activation='sigmoid'))"
   ]
  },
  {
   "cell_type": "code",
   "execution_count": 43,
   "id": "811fc81c",
   "metadata": {
    "execution": {
     "iopub.execute_input": "2023-07-21T08:35:56.392998Z",
     "iopub.status.busy": "2023-07-21T08:35:56.392288Z",
     "iopub.status.idle": "2023-07-21T08:35:56.421980Z",
     "shell.execute_reply": "2023-07-21T08:35:56.420686Z"
    },
    "id": "X0YcyIz7rN15",
    "outputId": "24f72f96-b391-4525-df48-1f4fc5b6fe21",
    "papermill": {
     "duration": 0.061423,
     "end_time": "2023-07-21T08:35:56.430751",
     "exception": false,
     "start_time": "2023-07-21T08:35:56.369328",
     "status": "completed"
    },
    "tags": []
   },
   "outputs": [
    {
     "name": "stdout",
     "output_type": "stream",
     "text": [
      "Model: \"sequential\"\n",
      "_________________________________________________________________\n",
      " Layer (type)                Output Shape              Param #   \n",
      "=================================================================\n",
      " dense (Dense)               (None, 256)               7168      \n",
      "                                                                 \n",
      " dropout (Dropout)           (None, 256)               0         \n",
      "                                                                 \n",
      " dense_1 (Dense)             (None, 128)               32896     \n",
      "                                                                 \n",
      " dropout_1 (Dropout)         (None, 128)               0         \n",
      "                                                                 \n",
      " dense_2 (Dense)             (None, 63)                8127      \n",
      "                                                                 \n",
      " dropout_2 (Dropout)         (None, 63)                0         \n",
      "                                                                 \n",
      " dense_3 (Dense)             (None, 1)                 64        \n",
      "                                                                 \n",
      "=================================================================\n",
      "Total params: 48,255\n",
      "Trainable params: 48,255\n",
      "Non-trainable params: 0\n",
      "_________________________________________________________________\n"
     ]
    }
   ],
   "source": [
    "model.summary()"
   ]
  },
  {
   "cell_type": "code",
   "execution_count": 44,
   "id": "e92f8c03",
   "metadata": {
    "execution": {
     "iopub.execute_input": "2023-07-21T08:35:56.479696Z",
     "iopub.status.busy": "2023-07-21T08:35:56.479250Z",
     "iopub.status.idle": "2023-07-21T08:35:56.742484Z",
     "shell.execute_reply": "2023-07-21T08:35:56.741558Z"
    },
    "id": "GUqtK6RirQhw",
    "outputId": "2d9b6629-79be-444f-8073-400ef70e4c9a",
    "papermill": {
     "duration": 0.290726,
     "end_time": "2023-07-21T08:35:56.744884",
     "exception": false,
     "start_time": "2023-07-21T08:35:56.454158",
     "status": "completed"
    },
    "tags": []
   },
   "outputs": [
    {
     "data": {
      "image/png": "[encoded data removed]",
      "text/plain": [
       "<IPython.core.display.Image object>"
      ]
     },
     "execution_count": 44,
     "metadata": {},
     "output_type": "execute_result"
    }
   ],
   "source": [
    "from tensorflow.keras.utils import plot_model\n",
    "from IPython.display import Image\n",
    "plot_model(model, to_file='convnet.png', show_shapes=True,show_layer_names=True)\n",
    "Image(filename='convnet.png')"
   ]
  },
  {
   "cell_type": "code",
   "execution_count": 45,
   "id": "50318214",
   "metadata": {
    "execution": {
     "iopub.execute_input": "2023-07-21T08:35:56.797881Z",
     "iopub.status.busy": "2023-07-21T08:35:56.797496Z",
     "iopub.status.idle": "2023-07-21T08:35:56.817047Z",
     "shell.execute_reply": "2023-07-21T08:35:56.815837Z"
    },
    "id": "jhKZugEKrU07",
    "papermill": {
     "duration": 0.049342,
     "end_time": "2023-07-21T08:35:56.819762",
     "exception": false,
     "start_time": "2023-07-21T08:35:56.770420",
     "status": "completed"
    },
    "tags": []
   },
   "outputs": [],
   "source": [
    "model.compile(optimizer=Adam(), loss='binary_crossentropy', metrics=['accuracy'])"
   ]
  },
  {
   "cell_type": "code",
   "execution_count": 46,
   "id": "ff31cb2e",
   "metadata": {
    "execution": {
     "iopub.execute_input": "2023-07-21T08:35:56.871798Z",
     "iopub.status.busy": "2023-07-21T08:35:56.871286Z",
     "iopub.status.idle": "2023-07-21T08:35:56.877270Z",
     "shell.execute_reply": "2023-07-21T08:35:56.876111Z"
    },
    "id": "3PijrLNOrf7M",
    "papermill": {
     "duration": 0.034599,
     "end_time": "2023-07-21T08:35:56.879496",
     "exception": false,
     "start_time": "2023-07-21T08:35:56.844897",
     "status": "completed"
    },
    "tags": []
   },
   "outputs": [],
   "source": [
    "lrd = ReduceLROnPlateau(monitor = 'val_loss',\n",
    "                         patience = 20,\n",
    "                         verbose = 1,\n",
    "                         factor = 0.75,\n",
    "                         min_lr = 1e-10)\n",
    "\n",
    "mcp = ModelCheckpoint('model.h5')\n",
    "\n",
    "es = EarlyStopping(verbose=1, patience=20)"
   ]
  },
  {
   "cell_type": "code",
   "execution_count": 47,
   "id": "5b3b98fa",
   "metadata": {
    "execution": {
     "iopub.execute_input": "2023-07-21T08:35:56.931401Z",
     "iopub.status.busy": "2023-07-21T08:35:56.930964Z",
     "iopub.status.idle": "2023-07-21T08:36:07.096527Z",
     "shell.execute_reply": "2023-07-21T08:36:07.095189Z"
    },
    "id": "X17KOLB0rkzm",
    "outputId": "80032c29-4002-45e6-cb92-c0fb552da6d2",
    "papermill": {
     "duration": 10.194618,
     "end_time": "2023-07-21T08:36:07.099013",
     "exception": false,
     "start_time": "2023-07-21T08:35:56.904395",
     "status": "completed"
    },
    "tags": []
   },
   "outputs": [
    {
     "name": "stdout",
     "output_type": "stream",
     "text": [
      "Epoch 1/100\n",
      "40/40 [==============================] - 2s 12ms/step - loss: 0.4244 - accuracy: 0.8099 - val_loss: 0.1635 - val_accuracy: 0.9435 - lr: 0.0010\n",
      "Epoch 2/100\n",
      "40/40 [==============================] - 0s 5ms/step - loss: 0.1710 - accuracy: 0.9458 - val_loss: 0.1160 - val_accuracy: 0.9470 - lr: 0.0010\n",
      "Epoch 3/100\n",
      "40/40 [==============================] - 0s 5ms/step - loss: 0.1372 - accuracy: 0.9568 - val_loss: 0.0923 - val_accuracy: 0.9541 - lr: 0.0010\n",
      "Epoch 4/100\n",
      "40/40 [==============================] - 0s 5ms/step - loss: 0.1329 - accuracy: 0.9607 - val_loss: 0.0868 - val_accuracy: 0.9541 - lr: 0.0010\n",
      "Epoch 5/100\n",
      "40/40 [==============================] - 0s 5ms/step - loss: 0.1207 - accuracy: 0.9615 - val_loss: 0.0621 - val_accuracy: 0.9717 - lr: 0.0010\n",
      "Epoch 6/100\n",
      "40/40 [==============================] - 0s 5ms/step - loss: 0.1062 - accuracy: 0.9662 - val_loss: 0.0582 - val_accuracy: 0.9717 - lr: 0.0010\n",
      "Epoch 7/100\n",
      "40/40 [==============================] - 0s 5ms/step - loss: 0.0970 - accuracy: 0.9725 - val_loss: 0.0509 - val_accuracy: 0.9823 - lr: 0.0010\n",
      "Epoch 8/100\n",
      "40/40 [==============================] - 0s 5ms/step - loss: 0.1033 - accuracy: 0.9690 - val_loss: 0.0509 - val_accuracy: 0.9859 - lr: 0.0010\n",
      "Epoch 9/100\n",
      "40/40 [==============================] - 0s 6ms/step - loss: 0.1029 - accuracy: 0.9690 - val_loss: 0.0480 - val_accuracy: 0.9753 - lr: 0.0010\n",
      "Epoch 10/100\n",
      "40/40 [==============================] - 0s 5ms/step - loss: 0.0898 - accuracy: 0.9729 - val_loss: 0.0539 - val_accuracy: 0.9823 - lr: 0.0010\n",
      "Epoch 11/100\n",
      "40/40 [==============================] - 0s 5ms/step - loss: 0.0869 - accuracy: 0.9725 - val_loss: 0.0418 - val_accuracy: 0.9788 - lr: 0.0010\n",
      "Epoch 12/100\n",
      "40/40 [==============================] - 0s 5ms/step - loss: 0.0881 - accuracy: 0.9721 - val_loss: 0.0528 - val_accuracy: 0.9788 - lr: 0.0010\n",
      "Epoch 13/100\n",
      "40/40 [==============================] - 0s 6ms/step - loss: 0.0799 - accuracy: 0.9733 - val_loss: 0.0350 - val_accuracy: 0.9859 - lr: 0.0010\n",
      "Epoch 14/100\n",
      "40/40 [==============================] - 0s 5ms/step - loss: 0.0771 - accuracy: 0.9772 - val_loss: 0.0349 - val_accuracy: 0.9859 - lr: 0.0010\n",
      "Epoch 15/100\n",
      "40/40 [==============================] - 0s 5ms/step - loss: 0.0776 - accuracy: 0.9737 - val_loss: 0.0360 - val_accuracy: 0.9894 - lr: 0.0010\n",
      "Epoch 16/100\n",
      "40/40 [==============================] - 0s 5ms/step - loss: 0.0624 - accuracy: 0.9792 - val_loss: 0.0380 - val_accuracy: 0.9859 - lr: 0.0010\n",
      "Epoch 17/100\n",
      "40/40 [==============================] - 0s 5ms/step - loss: 0.0664 - accuracy: 0.9764 - val_loss: 0.0456 - val_accuracy: 0.9788 - lr: 0.0010\n",
      "Epoch 18/100\n",
      "40/40 [==============================] - 0s 5ms/step - loss: 0.0667 - accuracy: 0.9772 - val_loss: 0.0427 - val_accuracy: 0.9788 - lr: 0.0010\n",
      "Epoch 19/100\n",
      "40/40 [==============================] - 0s 5ms/step - loss: 0.0612 - accuracy: 0.9792 - val_loss: 0.0259 - val_accuracy: 0.9894 - lr: 0.0010\n",
      "Epoch 20/100\n",
      "40/40 [==============================] - 0s 5ms/step - loss: 0.0608 - accuracy: 0.9776 - val_loss: 0.0373 - val_accuracy: 0.9859 - lr: 0.0010\n",
      "Epoch 21/100\n",
      "40/40 [==============================] - 0s 5ms/step - loss: 0.0526 - accuracy: 0.9823 - val_loss: 0.0388 - val_accuracy: 0.9859 - lr: 0.0010\n",
      "Epoch 22/100\n",
      "40/40 [==============================] - 0s 5ms/step - loss: 0.0622 - accuracy: 0.9796 - val_loss: 0.0333 - val_accuracy: 0.9894 - lr: 0.0010\n",
      "Epoch 23/100\n",
      "40/40 [==============================] - 0s 5ms/step - loss: 0.0578 - accuracy: 0.9815 - val_loss: 0.0335 - val_accuracy: 0.9894 - lr: 0.0010\n",
      "Epoch 24/100\n",
      "40/40 [==============================] - 0s 5ms/step - loss: 0.0505 - accuracy: 0.9811 - val_loss: 0.0264 - val_accuracy: 0.9929 - lr: 0.0010\n",
      "Epoch 25/100\n",
      "40/40 [==============================] - 0s 5ms/step - loss: 0.0502 - accuracy: 0.9804 - val_loss: 0.0403 - val_accuracy: 0.9788 - lr: 0.0010\n",
      "Epoch 26/100\n",
      "40/40 [==============================] - 0s 5ms/step - loss: 0.0511 - accuracy: 0.9827 - val_loss: 0.0347 - val_accuracy: 0.9859 - lr: 0.0010\n",
      "Epoch 27/100\n",
      "40/40 [==============================] - 0s 5ms/step - loss: 0.0548 - accuracy: 0.9800 - val_loss: 0.0428 - val_accuracy: 0.9823 - lr: 0.0010\n",
      "Epoch 28/100\n",
      "40/40 [==============================] - 0s 5ms/step - loss: 0.0467 - accuracy: 0.9827 - val_loss: 0.0427 - val_accuracy: 0.9788 - lr: 0.0010\n",
      "Epoch 29/100\n",
      "40/40 [==============================] - 0s 5ms/step - loss: 0.0401 - accuracy: 0.9847 - val_loss: 0.0268 - val_accuracy: 0.9894 - lr: 0.0010\n",
      "Epoch 30/100\n",
      "40/40 [==============================] - 0s 6ms/step - loss: 0.0463 - accuracy: 0.9804 - val_loss: 0.0307 - val_accuracy: 0.9894 - lr: 0.0010\n",
      "Epoch 31/100\n",
      "40/40 [==============================] - 0s 5ms/step - loss: 0.0384 - accuracy: 0.9866 - val_loss: 0.0398 - val_accuracy: 0.9859 - lr: 0.0010\n",
      "Epoch 32/100\n",
      "40/40 [==============================] - 0s 5ms/step - loss: 0.0426 - accuracy: 0.9843 - val_loss: 0.0343 - val_accuracy: 0.9894 - lr: 0.0010\n",
      "Epoch 33/100\n",
      "40/40 [==============================] - 0s 5ms/step - loss: 0.0422 - accuracy: 0.9835 - val_loss: 0.0429 - val_accuracy: 0.9859 - lr: 0.0010\n",
      "Epoch 34/100\n",
      "40/40 [==============================] - 0s 5ms/step - loss: 0.0428 - accuracy: 0.9811 - val_loss: 0.0300 - val_accuracy: 0.9859 - lr: 0.0010\n",
      "Epoch 35/100\n",
      "40/40 [==============================] - 0s 5ms/step - loss: 0.0393 - accuracy: 0.9843 - val_loss: 0.0386 - val_accuracy: 0.9859 - lr: 0.0010\n",
      "Epoch 36/100\n",
      "40/40 [==============================] - 0s 5ms/step - loss: 0.0389 - accuracy: 0.9851 - val_loss: 0.0346 - val_accuracy: 0.9823 - lr: 0.0010\n",
      "Epoch 37/100\n",
      "40/40 [==============================] - 0s 5ms/step - loss: 0.0471 - accuracy: 0.9835 - val_loss: 0.0454 - val_accuracy: 0.9788 - lr: 0.0010\n",
      "Epoch 38/100\n",
      "40/40 [==============================] - 0s 5ms/step - loss: 0.0442 - accuracy: 0.9847 - val_loss: 0.0403 - val_accuracy: 0.9788 - lr: 0.0010\n",
      "Epoch 39/100\n",
      "31/40 [======================>.......] - ETA: 0s - loss: 0.0342 - accuracy: 0.9869\n",
      "Epoch 39: ReduceLROnPlateau reducing learning rate to 0.0007500000356230885.\n",
      "40/40 [==============================] - 0s 5ms/step - loss: 0.0378 - accuracy: 0.9851 - val_loss: 0.0321 - val_accuracy: 0.9859 - lr: 0.0010\n",
      "Epoch 39: early stopping\n",
      "CPU times: user 12.6 s, sys: 939 ms, total: 13.5 s\n",
      "Wall time: 10.2 s\n"
     ]
    }
   ],
   "source": [
    "%%time\n",
    "history = model.fit(x=x_train, y=y_train, epochs=100, callbacks=[lrd, mcp, es], batch_size=64, validation_split=0.1)"
   ]
  },
  {
   "cell_type": "code",
   "execution_count": 48,
   "id": "95c5e519",
   "metadata": {
    "execution": {
     "iopub.execute_input": "2023-07-21T08:36:07.186616Z",
     "iopub.status.busy": "2023-07-21T08:36:07.185485Z",
     "iopub.status.idle": "2023-07-21T08:36:07.317142Z",
     "shell.execute_reply": "2023-07-21T08:36:07.316081Z"
    },
    "id": "wWoNSOFNrpBq",
    "outputId": "78f597ad-236c-42ae-f062-d73139a10aae",
    "papermill": {
     "duration": 0.177911,
     "end_time": "2023-07-21T08:36:07.319627",
     "exception": false,
     "start_time": "2023-07-21T08:36:07.141716",
     "status": "completed"
    },
    "tags": []
   },
   "outputs": [
    {
     "name": "stdout",
     "output_type": "stream",
     "text": [
      "30/30 [==============================] - 0s 2ms/step - loss: 0.0238 - accuracy: 0.9915\n"
     ]
    },
    {
     "data": {
      "text/plain": [
       "[0.023776810616254807, 0.9915164113044739]"
      ]
     },
     "execution_count": 48,
     "metadata": {},
     "output_type": "execute_result"
    }
   ],
   "source": [
    "model.evaluate(x_test, y_test)"
   ]
  }
 ],
 "metadata": {
  "kernelspec": {
   "display_name": "Python 3",
   "language": "python",
   "name": "python3"
  },
  "language_info": {
   "codemirror_mode": {
    "name": "ipython",
    "version": 3
   },
   "file_extension": ".py",
   "mimetype": "text/x-python",
   "name": "python",
   "nbconvert_exporter": "python",
   "pygments_lexer": "ipython3",
   "version": "3.10.12"
  },
  "papermill": {
   "default_parameters": {},
   "duration": 40.747719,
   "end_time": "2023-07-21T08:36:10.366496",
   "environment_variables": {},
   "exception": null,
   "input_path": "__notebook__.ipynb",
   "output_path": "__notebook__.ipynb",
   "parameters": {},
   "start_time": "2023-07-21T08:35:29.618777",
   "version": "2.4.0"
  }
 },
 "nbformat": 4,
 "nbformat_minor": 5
}
